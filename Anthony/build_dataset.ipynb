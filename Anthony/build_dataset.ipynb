{
 "cells": [
  {
   "cell_type": "code",
   "execution_count": 79,
   "metadata": {
    "collapsed": true
   },
   "outputs": [],
   "source": [
    "import pandas as pd"
   ]
  },
  {
   "cell_type": "code",
   "execution_count": 80,
   "outputs": [
    {
     "data": {
      "text/plain": "                            Artist                                     Song  \\\n0                    Kidz Bop Kids                             Ghostbusters   \n1     Creedence Clearwater Revival              Have You Ever Seen The Rain   \n2                     All Time Low                          Blinding Lights   \n3                         Bastille                                  Pompeii   \n4                      Bryan Adams                            Summer Of '69   \n...                            ...                                      ...   \n8729                 High Contrast                          Calling My Name   \n8730              Paul Kalkbrenner                                     Tief   \n8731                     Hypocrisy                            A Coming Race   \n8732                   Chloe Agnew                                    Sigma   \n8733        Dan Vapid & the Cheats  I Wanna Go to Machu Picchu Before I Die   \n\n                                                 Lyrics  \\\n0     ['ghostbusters', 'theres', 'somethin', 'strang...   \n1     ['ever', 'seen', 'rain', 'someone', 'told', 'l...   \n2     ['blinding', 'lights', 'ive', 'tryna', 'call',...   \n3     ['phasa', 'thaiespaolportugusitalianopompeii',...   \n4     ['summer', 'got', 'first', 'real', 'sixstring'...   \n...                                                 ...   \n8729  ['contributorswhy', 'hey', 'yo', 'glamma', 'sa...   \n8730  ['contributortief', 'deep', 'deep', 'deep', 'd...   \n8731  ['contributorsa', 'coming', 'race', 'searching...   \n8732  ['contributorssigma', 'ar', 'thoir', 'comharth...   \n8733  ['contributorsi', 'wanna', 'go', 'machu', 'pic...   \n\n                    track_id  \n0     5IWLGZJR6d8pl5a5tka18u  \n1     49oArb5U9DsUXpPSjDPsob  \n2     3bkgyThZ4ImhlQNgVRo850  \n3     3oaqIiIIu9KUrfqE4AeT93  \n4     1zzwcBhUh3TqB2sVJWH84i  \n...                      ...  \n8729  6x0LElzW1utVgphlTnqsX5  \n8730  6PWDT5ZY8Fz5AZTu9CAeTy  \n8731  7KDZ0tye2U1ImgVbr36eKp  \n8732  7oqZVbE2W4MCoMS34PPDr3  \n8733  3mUfADjtWU3XnQW2FPtBch  \n\n[8734 rows x 4 columns]",
      "text/html": "<div>\n<style scoped>\n    .dataframe tbody tr th:only-of-type {\n        vertical-align: middle;\n    }\n\n    .dataframe tbody tr th {\n        vertical-align: top;\n    }\n\n    .dataframe thead th {\n        text-align: right;\n    }\n</style>\n<table border=\"1\" class=\"dataframe\">\n  <thead>\n    <tr style=\"text-align: right;\">\n      <th></th>\n      <th>Artist</th>\n      <th>Song</th>\n      <th>Lyrics</th>\n      <th>track_id</th>\n    </tr>\n  </thead>\n  <tbody>\n    <tr>\n      <th>0</th>\n      <td>Kidz Bop Kids</td>\n      <td>Ghostbusters</td>\n      <td>['ghostbusters', 'theres', 'somethin', 'strang...</td>\n      <td>5IWLGZJR6d8pl5a5tka18u</td>\n    </tr>\n    <tr>\n      <th>1</th>\n      <td>Creedence Clearwater Revival</td>\n      <td>Have You Ever Seen The Rain</td>\n      <td>['ever', 'seen', 'rain', 'someone', 'told', 'l...</td>\n      <td>49oArb5U9DsUXpPSjDPsob</td>\n    </tr>\n    <tr>\n      <th>2</th>\n      <td>All Time Low</td>\n      <td>Blinding Lights</td>\n      <td>['blinding', 'lights', 'ive', 'tryna', 'call',...</td>\n      <td>3bkgyThZ4ImhlQNgVRo850</td>\n    </tr>\n    <tr>\n      <th>3</th>\n      <td>Bastille</td>\n      <td>Pompeii</td>\n      <td>['phasa', 'thaiespaolportugusitalianopompeii',...</td>\n      <td>3oaqIiIIu9KUrfqE4AeT93</td>\n    </tr>\n    <tr>\n      <th>4</th>\n      <td>Bryan Adams</td>\n      <td>Summer Of '69</td>\n      <td>['summer', 'got', 'first', 'real', 'sixstring'...</td>\n      <td>1zzwcBhUh3TqB2sVJWH84i</td>\n    </tr>\n    <tr>\n      <th>...</th>\n      <td>...</td>\n      <td>...</td>\n      <td>...</td>\n      <td>...</td>\n    </tr>\n    <tr>\n      <th>8729</th>\n      <td>High Contrast</td>\n      <td>Calling My Name</td>\n      <td>['contributorswhy', 'hey', 'yo', 'glamma', 'sa...</td>\n      <td>6x0LElzW1utVgphlTnqsX5</td>\n    </tr>\n    <tr>\n      <th>8730</th>\n      <td>Paul Kalkbrenner</td>\n      <td>Tief</td>\n      <td>['contributortief', 'deep', 'deep', 'deep', 'd...</td>\n      <td>6PWDT5ZY8Fz5AZTu9CAeTy</td>\n    </tr>\n    <tr>\n      <th>8731</th>\n      <td>Hypocrisy</td>\n      <td>A Coming Race</td>\n      <td>['contributorsa', 'coming', 'race', 'searching...</td>\n      <td>7KDZ0tye2U1ImgVbr36eKp</td>\n    </tr>\n    <tr>\n      <th>8732</th>\n      <td>Chloe Agnew</td>\n      <td>Sigma</td>\n      <td>['contributorssigma', 'ar', 'thoir', 'comharth...</td>\n      <td>7oqZVbE2W4MCoMS34PPDr3</td>\n    </tr>\n    <tr>\n      <th>8733</th>\n      <td>Dan Vapid &amp; the Cheats</td>\n      <td>I Wanna Go to Machu Picchu Before I Die</td>\n      <td>['contributorsi', 'wanna', 'go', 'machu', 'pic...</td>\n      <td>3mUfADjtWU3XnQW2FPtBch</td>\n    </tr>\n  </tbody>\n</table>\n<p>8734 rows × 4 columns</p>\n</div>"
     },
     "execution_count": 80,
     "metadata": {},
     "output_type": "execute_result"
    }
   ],
   "source": [
    "# TODO\n",
    "# find out which track_ids have spectrogram data\n",
    "# only take sentiment value from songs which have track_ids in spectrogram data\n",
    "# merge the sentiment data into the final dataset\n",
    "\n",
    "lyrics_with_trackid = pd.read_csv(\"lyrics_with_track_id.txt\")\n",
    "lyrics_with_trackid.drop(columns=['Unnamed: 0'], inplace=True)\n",
    "lyrics_with_trackid"
   ],
   "metadata": {
    "collapsed": false
   }
  },
  {
   "cell_type": "code",
   "execution_count": 81,
   "outputs": [
    {
     "data": {
      "text/plain": "                      track_id                 artists  \\\n0       5SuOikwiRyPMVoIQDJUgSV             Gen Hoshino   \n1       4qPNDBW1i3p13qLCt0Ki3A            Ben Woodward   \n2       1iJBSr7s7jYXzM8EGcbK5b  Ingrid Michaelson;ZAYN   \n3       6lfxq3CG4xtTiEg7opyCyx            Kina Grannis   \n4       5vjLSffimiIP26QG5WcN2K        Chord Overstreet   \n...                        ...                     ...   \n113995  2C3TZjDRiAzdyViavDJ217           Rainy Lullaby   \n113996  1hIz5L4IB9hN3WRYPOCGPw           Rainy Lullaby   \n113997  6x8ZfSoqDjuNa5SVP5QjvX           Cesária Evora   \n113998  2e6sXL2bYv4bSz6VTdnfLs        Michael W. Smith   \n113999  2hETkH7cOfqmz3LqZDHZf5           Cesária Evora   \n\n                                               album_name  \\\n0                                                  Comedy   \n1                                        Ghost (Acoustic)   \n2                                          To Begin Again   \n3       Crazy Rich Asians (Original Motion Picture Sou...   \n4                                                 Hold On   \n...                                                   ...   \n113995  #mindfulness - Soft Rain for Mindful Meditatio...   \n113996  #mindfulness - Soft Rain for Mindful Meditatio...   \n113997                                            Best Of   \n113998                                  Change Your World   \n113999                                     Miss Perfumado   \n\n                        track_name  popularity  duration_ms  explicit  \\\n0                           Comedy          73       230666     False   \n1                 Ghost - Acoustic          55       149610     False   \n2                   To Begin Again          57       210826     False   \n3       Can't Help Falling In Love          71       201933     False   \n4                          Hold On          82       198853     False   \n...                            ...         ...          ...       ...   \n113995         Sleep My Little Boy          21       384999     False   \n113996            Water Into Light          22       385000     False   \n113997              Miss Perfumado          22       271466     False   \n113998                     Friends          41       283893     False   \n113999                   Barbincor          22       241826     False   \n\n        danceability  energy  key  loudness  mode  speechiness  acousticness  \\\n0              0.676  0.4610    1    -6.746     0       0.1430        0.0322   \n1              0.420  0.1660    1   -17.235     1       0.0763        0.9240   \n2              0.438  0.3590    0    -9.734     1       0.0557        0.2100   \n3              0.266  0.0596    0   -18.515     1       0.0363        0.9050   \n4              0.618  0.4430    2    -9.681     1       0.0526        0.4690   \n...              ...     ...  ...       ...   ...          ...           ...   \n113995         0.172  0.2350    5   -16.393     1       0.0422        0.6400   \n113996         0.174  0.1170    0   -18.318     0       0.0401        0.9940   \n113997         0.629  0.3290    0   -10.895     0       0.0420        0.8670   \n113998         0.587  0.5060    7   -10.889     1       0.0297        0.3810   \n113999         0.526  0.4870    1   -10.204     0       0.0725        0.6810   \n\n        instrumentalness  liveness  valence    tempo  time_signature  \\\n0               0.000001    0.3580   0.7150   87.917               4   \n1               0.000006    0.1010   0.2670   77.489               4   \n2               0.000000    0.1170   0.1200   76.332               4   \n3               0.000071    0.1320   0.1430  181.740               3   \n4               0.000000    0.0829   0.1670  119.949               4   \n...                  ...       ...      ...      ...             ...   \n113995          0.928000    0.0863   0.0339  125.995               5   \n113996          0.976000    0.1050   0.0350   85.239               4   \n113997          0.000000    0.0839   0.7430  132.378               4   \n113998          0.000000    0.2700   0.4130  135.960               4   \n113999          0.000000    0.0893   0.7080   79.198               4   \n\n        track_genre  \n0          acoustic  \n1          acoustic  \n2          acoustic  \n3          acoustic  \n4          acoustic  \n...             ...  \n113995  world-music  \n113996  world-music  \n113997  world-music  \n113998  world-music  \n113999  world-music  \n\n[114000 rows x 20 columns]",
      "text/html": "<div>\n<style scoped>\n    .dataframe tbody tr th:only-of-type {\n        vertical-align: middle;\n    }\n\n    .dataframe tbody tr th {\n        vertical-align: top;\n    }\n\n    .dataframe thead th {\n        text-align: right;\n    }\n</style>\n<table border=\"1\" class=\"dataframe\">\n  <thead>\n    <tr style=\"text-align: right;\">\n      <th></th>\n      <th>track_id</th>\n      <th>artists</th>\n      <th>album_name</th>\n      <th>track_name</th>\n      <th>popularity</th>\n      <th>duration_ms</th>\n      <th>explicit</th>\n      <th>danceability</th>\n      <th>energy</th>\n      <th>key</th>\n      <th>loudness</th>\n      <th>mode</th>\n      <th>speechiness</th>\n      <th>acousticness</th>\n      <th>instrumentalness</th>\n      <th>liveness</th>\n      <th>valence</th>\n      <th>tempo</th>\n      <th>time_signature</th>\n      <th>track_genre</th>\n    </tr>\n  </thead>\n  <tbody>\n    <tr>\n      <th>0</th>\n      <td>5SuOikwiRyPMVoIQDJUgSV</td>\n      <td>Gen Hoshino</td>\n      <td>Comedy</td>\n      <td>Comedy</td>\n      <td>73</td>\n      <td>230666</td>\n      <td>False</td>\n      <td>0.676</td>\n      <td>0.4610</td>\n      <td>1</td>\n      <td>-6.746</td>\n      <td>0</td>\n      <td>0.1430</td>\n      <td>0.0322</td>\n      <td>0.000001</td>\n      <td>0.3580</td>\n      <td>0.7150</td>\n      <td>87.917</td>\n      <td>4</td>\n      <td>acoustic</td>\n    </tr>\n    <tr>\n      <th>1</th>\n      <td>4qPNDBW1i3p13qLCt0Ki3A</td>\n      <td>Ben Woodward</td>\n      <td>Ghost (Acoustic)</td>\n      <td>Ghost - Acoustic</td>\n      <td>55</td>\n      <td>149610</td>\n      <td>False</td>\n      <td>0.420</td>\n      <td>0.1660</td>\n      <td>1</td>\n      <td>-17.235</td>\n      <td>1</td>\n      <td>0.0763</td>\n      <td>0.9240</td>\n      <td>0.000006</td>\n      <td>0.1010</td>\n      <td>0.2670</td>\n      <td>77.489</td>\n      <td>4</td>\n      <td>acoustic</td>\n    </tr>\n    <tr>\n      <th>2</th>\n      <td>1iJBSr7s7jYXzM8EGcbK5b</td>\n      <td>Ingrid Michaelson;ZAYN</td>\n      <td>To Begin Again</td>\n      <td>To Begin Again</td>\n      <td>57</td>\n      <td>210826</td>\n      <td>False</td>\n      <td>0.438</td>\n      <td>0.3590</td>\n      <td>0</td>\n      <td>-9.734</td>\n      <td>1</td>\n      <td>0.0557</td>\n      <td>0.2100</td>\n      <td>0.000000</td>\n      <td>0.1170</td>\n      <td>0.1200</td>\n      <td>76.332</td>\n      <td>4</td>\n      <td>acoustic</td>\n    </tr>\n    <tr>\n      <th>3</th>\n      <td>6lfxq3CG4xtTiEg7opyCyx</td>\n      <td>Kina Grannis</td>\n      <td>Crazy Rich Asians (Original Motion Picture Sou...</td>\n      <td>Can't Help Falling In Love</td>\n      <td>71</td>\n      <td>201933</td>\n      <td>False</td>\n      <td>0.266</td>\n      <td>0.0596</td>\n      <td>0</td>\n      <td>-18.515</td>\n      <td>1</td>\n      <td>0.0363</td>\n      <td>0.9050</td>\n      <td>0.000071</td>\n      <td>0.1320</td>\n      <td>0.1430</td>\n      <td>181.740</td>\n      <td>3</td>\n      <td>acoustic</td>\n    </tr>\n    <tr>\n      <th>4</th>\n      <td>5vjLSffimiIP26QG5WcN2K</td>\n      <td>Chord Overstreet</td>\n      <td>Hold On</td>\n      <td>Hold On</td>\n      <td>82</td>\n      <td>198853</td>\n      <td>False</td>\n      <td>0.618</td>\n      <td>0.4430</td>\n      <td>2</td>\n      <td>-9.681</td>\n      <td>1</td>\n      <td>0.0526</td>\n      <td>0.4690</td>\n      <td>0.000000</td>\n      <td>0.0829</td>\n      <td>0.1670</td>\n      <td>119.949</td>\n      <td>4</td>\n      <td>acoustic</td>\n    </tr>\n    <tr>\n      <th>...</th>\n      <td>...</td>\n      <td>...</td>\n      <td>...</td>\n      <td>...</td>\n      <td>...</td>\n      <td>...</td>\n      <td>...</td>\n      <td>...</td>\n      <td>...</td>\n      <td>...</td>\n      <td>...</td>\n      <td>...</td>\n      <td>...</td>\n      <td>...</td>\n      <td>...</td>\n      <td>...</td>\n      <td>...</td>\n      <td>...</td>\n      <td>...</td>\n      <td>...</td>\n    </tr>\n    <tr>\n      <th>113995</th>\n      <td>2C3TZjDRiAzdyViavDJ217</td>\n      <td>Rainy Lullaby</td>\n      <td>#mindfulness - Soft Rain for Mindful Meditatio...</td>\n      <td>Sleep My Little Boy</td>\n      <td>21</td>\n      <td>384999</td>\n      <td>False</td>\n      <td>0.172</td>\n      <td>0.2350</td>\n      <td>5</td>\n      <td>-16.393</td>\n      <td>1</td>\n      <td>0.0422</td>\n      <td>0.6400</td>\n      <td>0.928000</td>\n      <td>0.0863</td>\n      <td>0.0339</td>\n      <td>125.995</td>\n      <td>5</td>\n      <td>world-music</td>\n    </tr>\n    <tr>\n      <th>113996</th>\n      <td>1hIz5L4IB9hN3WRYPOCGPw</td>\n      <td>Rainy Lullaby</td>\n      <td>#mindfulness - Soft Rain for Mindful Meditatio...</td>\n      <td>Water Into Light</td>\n      <td>22</td>\n      <td>385000</td>\n      <td>False</td>\n      <td>0.174</td>\n      <td>0.1170</td>\n      <td>0</td>\n      <td>-18.318</td>\n      <td>0</td>\n      <td>0.0401</td>\n      <td>0.9940</td>\n      <td>0.976000</td>\n      <td>0.1050</td>\n      <td>0.0350</td>\n      <td>85.239</td>\n      <td>4</td>\n      <td>world-music</td>\n    </tr>\n    <tr>\n      <th>113997</th>\n      <td>6x8ZfSoqDjuNa5SVP5QjvX</td>\n      <td>Cesária Evora</td>\n      <td>Best Of</td>\n      <td>Miss Perfumado</td>\n      <td>22</td>\n      <td>271466</td>\n      <td>False</td>\n      <td>0.629</td>\n      <td>0.3290</td>\n      <td>0</td>\n      <td>-10.895</td>\n      <td>0</td>\n      <td>0.0420</td>\n      <td>0.8670</td>\n      <td>0.000000</td>\n      <td>0.0839</td>\n      <td>0.7430</td>\n      <td>132.378</td>\n      <td>4</td>\n      <td>world-music</td>\n    </tr>\n    <tr>\n      <th>113998</th>\n      <td>2e6sXL2bYv4bSz6VTdnfLs</td>\n      <td>Michael W. Smith</td>\n      <td>Change Your World</td>\n      <td>Friends</td>\n      <td>41</td>\n      <td>283893</td>\n      <td>False</td>\n      <td>0.587</td>\n      <td>0.5060</td>\n      <td>7</td>\n      <td>-10.889</td>\n      <td>1</td>\n      <td>0.0297</td>\n      <td>0.3810</td>\n      <td>0.000000</td>\n      <td>0.2700</td>\n      <td>0.4130</td>\n      <td>135.960</td>\n      <td>4</td>\n      <td>world-music</td>\n    </tr>\n    <tr>\n      <th>113999</th>\n      <td>2hETkH7cOfqmz3LqZDHZf5</td>\n      <td>Cesária Evora</td>\n      <td>Miss Perfumado</td>\n      <td>Barbincor</td>\n      <td>22</td>\n      <td>241826</td>\n      <td>False</td>\n      <td>0.526</td>\n      <td>0.4870</td>\n      <td>1</td>\n      <td>-10.204</td>\n      <td>0</td>\n      <td>0.0725</td>\n      <td>0.6810</td>\n      <td>0.000000</td>\n      <td>0.0893</td>\n      <td>0.7080</td>\n      <td>79.198</td>\n      <td>4</td>\n      <td>world-music</td>\n    </tr>\n  </tbody>\n</table>\n<p>114000 rows × 20 columns</p>\n</div>"
     },
     "execution_count": 81,
     "metadata": {},
     "output_type": "execute_result"
    }
   ],
   "source": [
    "original_dataset = pd.read_csv(\"dataset.csv\")\n",
    "original_dataset.drop(columns=['Unnamed: 0'], inplace=True)\n",
    "original_dataset"
   ],
   "metadata": {
    "collapsed": false
   }
  },
  {
   "cell_type": "code",
   "execution_count": 82,
   "outputs": [
    {
     "data": {
      "text/plain": "                      track_id                  artists  \\\n25      6D33wCKzWtNEgOovgeVJ7r               Jason Mraz   \n29      2qESE1ZeWly7I3YjyTXmXh               Jason Mraz   \n1302    1Wb09hTo6O41UzdOq7Pd2i              The Bamboos   \n1452    0rnDmgcZvn9WPsOPqHbt16                  Osibisa   \n1708    2yLm7Y9foI71By8rAdYsFE               Dos Santos   \n...                        ...                      ...   \n113375  2YEJL2fwTq6RpH5PtdQfge         Michael W. Smith   \n113381  7GwYyLNFyAsSsmt2aa0z6u         Michael W. Smith   \n113504  5UjaOsrdoI4shw9gM2eNPC  Buena Vista Social Club   \n113600  3okCsBWWv7okRgaTnMQ2Fp  Buena Vista Social Club   \n113804  11TMcTS3iao1dvMogUSQVk  Buena Vista Social Club   \n\n                      album_name             track_name  popularity  \\\n25              Mellow Adult Pop             Bella Luna           1   \n29        Perfect Christmas Hits      Winter Wonderland           0   \n1302    Hard Up (Deluxe Version)                Hard Up          12   \n1452                  Ojah Awake             Ojah Awake           9   \n1708                  Dos Santos            El Pescador          17   \n...                          ...                    ...         ...   \n113375         Christmas at Home           God with God           1   \n113381         Christmas at Home       Freeze The Frame           1   \n113504   Buena Vista Social Club      El Cuarto de Tula          14   \n113600   Buena Vista Social Club          Dos Gardenias          13   \n113804   Buena Vista Social Club  De Camino a la Vereda          11   \n\n        duration_ms  explicit  danceability  energy  key  loudness  mode  \\\n25           302346     False         0.755   0.454    9    -9.609     0   \n29           131760     False         0.620   0.309    5    -9.209     1   \n1302         255227     False         0.782   0.922   11    -4.028     0   \n1452         296093     False         0.581   0.709    2   -13.307     1   \n1708         213186     False         0.562   0.722    4    -5.625     0   \n...             ...       ...           ...     ...  ...       ...   ...   \n113375       250859     False         0.226   0.388    8    -8.440     1   \n113381       231873     False         0.392   0.285    5   -11.236     1   \n113504       445426     False         0.546   0.715    9   -11.927     1   \n113600       184026     False         0.569   0.205    4   -16.741     0   \n113804       303973     False         0.630   0.462    3   -10.792     1   \n\n        speechiness  acousticness  instrumentalness  liveness  valence  \\\n25           0.0352       0.75700          0.000000    0.2360    0.330   \n29           0.0495       0.78800          0.000000    0.1460    0.664   \n1302         0.0497       0.00655          0.011800    0.0728    0.761   \n1452         0.0436       0.02680          0.232000    0.0398    0.816   \n1708         0.0280       0.01320          0.897000    0.1140    0.887   \n...             ...           ...               ...       ...      ...   \n113375       0.0314       0.53500          0.000000    0.1030    0.158   \n113381       0.0309       0.69400          0.000000    0.1100    0.212   \n113504       0.0459       0.62100          0.000218    0.2940    0.850   \n113600       0.0382       0.83300          0.000140    0.0935    0.518   \n113804       0.0406       0.84900          0.000186    0.1250    0.963   \n\n          tempo  time_signature  track_genre  \n25      120.060               4     acoustic  \n29      145.363               4     acoustic  \n1302    104.015               4     afrobeat  \n1452    132.096               4     afrobeat  \n1708    100.747               4     afrobeat  \n...         ...             ...          ...  \n113375  114.126               4  world-music  \n113381   70.792               4  world-music  \n113504  104.905               4  world-music  \n113600   91.439               4  world-music  \n113804   84.252               4  world-music  \n\n[4844 rows x 20 columns]",
      "text/html": "<div>\n<style scoped>\n    .dataframe tbody tr th:only-of-type {\n        vertical-align: middle;\n    }\n\n    .dataframe tbody tr th {\n        vertical-align: top;\n    }\n\n    .dataframe thead th {\n        text-align: right;\n    }\n</style>\n<table border=\"1\" class=\"dataframe\">\n  <thead>\n    <tr style=\"text-align: right;\">\n      <th></th>\n      <th>track_id</th>\n      <th>artists</th>\n      <th>album_name</th>\n      <th>track_name</th>\n      <th>popularity</th>\n      <th>duration_ms</th>\n      <th>explicit</th>\n      <th>danceability</th>\n      <th>energy</th>\n      <th>key</th>\n      <th>loudness</th>\n      <th>mode</th>\n      <th>speechiness</th>\n      <th>acousticness</th>\n      <th>instrumentalness</th>\n      <th>liveness</th>\n      <th>valence</th>\n      <th>tempo</th>\n      <th>time_signature</th>\n      <th>track_genre</th>\n    </tr>\n  </thead>\n  <tbody>\n    <tr>\n      <th>25</th>\n      <td>6D33wCKzWtNEgOovgeVJ7r</td>\n      <td>Jason Mraz</td>\n      <td>Mellow Adult Pop</td>\n      <td>Bella Luna</td>\n      <td>1</td>\n      <td>302346</td>\n      <td>False</td>\n      <td>0.755</td>\n      <td>0.454</td>\n      <td>9</td>\n      <td>-9.609</td>\n      <td>0</td>\n      <td>0.0352</td>\n      <td>0.75700</td>\n      <td>0.000000</td>\n      <td>0.2360</td>\n      <td>0.330</td>\n      <td>120.060</td>\n      <td>4</td>\n      <td>acoustic</td>\n    </tr>\n    <tr>\n      <th>29</th>\n      <td>2qESE1ZeWly7I3YjyTXmXh</td>\n      <td>Jason Mraz</td>\n      <td>Perfect Christmas Hits</td>\n      <td>Winter Wonderland</td>\n      <td>0</td>\n      <td>131760</td>\n      <td>False</td>\n      <td>0.620</td>\n      <td>0.309</td>\n      <td>5</td>\n      <td>-9.209</td>\n      <td>1</td>\n      <td>0.0495</td>\n      <td>0.78800</td>\n      <td>0.000000</td>\n      <td>0.1460</td>\n      <td>0.664</td>\n      <td>145.363</td>\n      <td>4</td>\n      <td>acoustic</td>\n    </tr>\n    <tr>\n      <th>1302</th>\n      <td>1Wb09hTo6O41UzdOq7Pd2i</td>\n      <td>The Bamboos</td>\n      <td>Hard Up (Deluxe Version)</td>\n      <td>Hard Up</td>\n      <td>12</td>\n      <td>255227</td>\n      <td>False</td>\n      <td>0.782</td>\n      <td>0.922</td>\n      <td>11</td>\n      <td>-4.028</td>\n      <td>0</td>\n      <td>0.0497</td>\n      <td>0.00655</td>\n      <td>0.011800</td>\n      <td>0.0728</td>\n      <td>0.761</td>\n      <td>104.015</td>\n      <td>4</td>\n      <td>afrobeat</td>\n    </tr>\n    <tr>\n      <th>1452</th>\n      <td>0rnDmgcZvn9WPsOPqHbt16</td>\n      <td>Osibisa</td>\n      <td>Ojah Awake</td>\n      <td>Ojah Awake</td>\n      <td>9</td>\n      <td>296093</td>\n      <td>False</td>\n      <td>0.581</td>\n      <td>0.709</td>\n      <td>2</td>\n      <td>-13.307</td>\n      <td>1</td>\n      <td>0.0436</td>\n      <td>0.02680</td>\n      <td>0.232000</td>\n      <td>0.0398</td>\n      <td>0.816</td>\n      <td>132.096</td>\n      <td>4</td>\n      <td>afrobeat</td>\n    </tr>\n    <tr>\n      <th>1708</th>\n      <td>2yLm7Y9foI71By8rAdYsFE</td>\n      <td>Dos Santos</td>\n      <td>Dos Santos</td>\n      <td>El Pescador</td>\n      <td>17</td>\n      <td>213186</td>\n      <td>False</td>\n      <td>0.562</td>\n      <td>0.722</td>\n      <td>4</td>\n      <td>-5.625</td>\n      <td>0</td>\n      <td>0.0280</td>\n      <td>0.01320</td>\n      <td>0.897000</td>\n      <td>0.1140</td>\n      <td>0.887</td>\n      <td>100.747</td>\n      <td>4</td>\n      <td>afrobeat</td>\n    </tr>\n    <tr>\n      <th>...</th>\n      <td>...</td>\n      <td>...</td>\n      <td>...</td>\n      <td>...</td>\n      <td>...</td>\n      <td>...</td>\n      <td>...</td>\n      <td>...</td>\n      <td>...</td>\n      <td>...</td>\n      <td>...</td>\n      <td>...</td>\n      <td>...</td>\n      <td>...</td>\n      <td>...</td>\n      <td>...</td>\n      <td>...</td>\n      <td>...</td>\n      <td>...</td>\n      <td>...</td>\n    </tr>\n    <tr>\n      <th>113375</th>\n      <td>2YEJL2fwTq6RpH5PtdQfge</td>\n      <td>Michael W. Smith</td>\n      <td>Christmas at Home</td>\n      <td>God with God</td>\n      <td>1</td>\n      <td>250859</td>\n      <td>False</td>\n      <td>0.226</td>\n      <td>0.388</td>\n      <td>8</td>\n      <td>-8.440</td>\n      <td>1</td>\n      <td>0.0314</td>\n      <td>0.53500</td>\n      <td>0.000000</td>\n      <td>0.1030</td>\n      <td>0.158</td>\n      <td>114.126</td>\n      <td>4</td>\n      <td>world-music</td>\n    </tr>\n    <tr>\n      <th>113381</th>\n      <td>7GwYyLNFyAsSsmt2aa0z6u</td>\n      <td>Michael W. Smith</td>\n      <td>Christmas at Home</td>\n      <td>Freeze The Frame</td>\n      <td>1</td>\n      <td>231873</td>\n      <td>False</td>\n      <td>0.392</td>\n      <td>0.285</td>\n      <td>5</td>\n      <td>-11.236</td>\n      <td>1</td>\n      <td>0.0309</td>\n      <td>0.69400</td>\n      <td>0.000000</td>\n      <td>0.1100</td>\n      <td>0.212</td>\n      <td>70.792</td>\n      <td>4</td>\n      <td>world-music</td>\n    </tr>\n    <tr>\n      <th>113504</th>\n      <td>5UjaOsrdoI4shw9gM2eNPC</td>\n      <td>Buena Vista Social Club</td>\n      <td>Buena Vista Social Club</td>\n      <td>El Cuarto de Tula</td>\n      <td>14</td>\n      <td>445426</td>\n      <td>False</td>\n      <td>0.546</td>\n      <td>0.715</td>\n      <td>9</td>\n      <td>-11.927</td>\n      <td>1</td>\n      <td>0.0459</td>\n      <td>0.62100</td>\n      <td>0.000218</td>\n      <td>0.2940</td>\n      <td>0.850</td>\n      <td>104.905</td>\n      <td>4</td>\n      <td>world-music</td>\n    </tr>\n    <tr>\n      <th>113600</th>\n      <td>3okCsBWWv7okRgaTnMQ2Fp</td>\n      <td>Buena Vista Social Club</td>\n      <td>Buena Vista Social Club</td>\n      <td>Dos Gardenias</td>\n      <td>13</td>\n      <td>184026</td>\n      <td>False</td>\n      <td>0.569</td>\n      <td>0.205</td>\n      <td>4</td>\n      <td>-16.741</td>\n      <td>0</td>\n      <td>0.0382</td>\n      <td>0.83300</td>\n      <td>0.000140</td>\n      <td>0.0935</td>\n      <td>0.518</td>\n      <td>91.439</td>\n      <td>4</td>\n      <td>world-music</td>\n    </tr>\n    <tr>\n      <th>113804</th>\n      <td>11TMcTS3iao1dvMogUSQVk</td>\n      <td>Buena Vista Social Club</td>\n      <td>Buena Vista Social Club</td>\n      <td>De Camino a la Vereda</td>\n      <td>11</td>\n      <td>303973</td>\n      <td>False</td>\n      <td>0.630</td>\n      <td>0.462</td>\n      <td>3</td>\n      <td>-10.792</td>\n      <td>1</td>\n      <td>0.0406</td>\n      <td>0.84900</td>\n      <td>0.000186</td>\n      <td>0.1250</td>\n      <td>0.963</td>\n      <td>84.252</td>\n      <td>4</td>\n      <td>world-music</td>\n    </tr>\n  </tbody>\n</table>\n<p>4844 rows × 20 columns</p>\n</div>"
     },
     "execution_count": 82,
     "metadata": {},
     "output_type": "execute_result"
    }
   ],
   "source": [
    "original_dataset_with_lyric_data = original_dataset[original_dataset['track_id'].isin(lyrics_with_trackid['track_id'])]\n",
    "original_dataset_with_lyric_data"
   ],
   "metadata": {
    "collapsed": false
   }
  },
  {
   "cell_type": "code",
   "execution_count": 83,
   "outputs": [],
   "source": [
    "import os"
   ],
   "metadata": {
    "collapsed": false
   }
  },
  {
   "cell_type": "code",
   "execution_count": 84,
   "outputs": [
    {
     "data": {
      "text/plain": "['002qpSULhHAw6DGqFxbaO1',\n '004iWPkSRbvOEvAPLWHl9M',\n '005U5ZHLoA4OEkWewAa32S',\n '006c9li2Mybyg5vm6doEfO',\n '009MGoCC568mI1yvsbmTxw',\n '00BHbc5GB5d35gsi8IsmZl',\n '00btR3u8FwO3Ip97Az3nZM',\n '00GVRTIWMjYwwHEjTLclgf',\n '00IjIaUaMCFG5gPE4PrDdG',\n '00isIFJWVpXIQ8HkGICSQp']"
     },
     "execution_count": 84,
     "metadata": {},
     "output_type": "execute_result"
    }
   ],
   "source": [
    "done_spectrograms = [x.split('.')[0] for x in os.listdir('spectrograms')]\n",
    "done_spectrograms[:10]"
   ],
   "metadata": {
    "collapsed": false
   }
  },
  {
   "cell_type": "code",
   "execution_count": 85,
   "outputs": [
    {
     "data": {
      "text/plain": "                      track_id                  artists  \\\n25      6D33wCKzWtNEgOovgeVJ7r               Jason Mraz   \n29      2qESE1ZeWly7I3YjyTXmXh               Jason Mraz   \n1302    1Wb09hTo6O41UzdOq7Pd2i              The Bamboos   \n1452    0rnDmgcZvn9WPsOPqHbt16                  Osibisa   \n1708    2yLm7Y9foI71By8rAdYsFE               Dos Santos   \n...                        ...                      ...   \n113373  0Z6NbNX43bPaHylvR2yvCV         Michael W. Smith   \n113375  2YEJL2fwTq6RpH5PtdQfge         Michael W. Smith   \n113381  7GwYyLNFyAsSsmt2aa0z6u         Michael W. Smith   \n113504  5UjaOsrdoI4shw9gM2eNPC  Buena Vista Social Club   \n113804  11TMcTS3iao1dvMogUSQVk  Buena Vista Social Club   \n\n                      album_name                      track_name  popularity  \\\n25              Mellow Adult Pop                      Bella Luna           1   \n29        Perfect Christmas Hits               Winter Wonderland           0   \n1302    Hard Up (Deluxe Version)                         Hard Up          12   \n1452                  Ojah Awake                      Ojah Awake           9   \n1708                  Dos Santos                     El Pescador          17   \n...                          ...                             ...         ...   \n113373         Christmas at Home  Christmas Is Here - Radio Edit           1   \n113375         Christmas at Home                    God with God           1   \n113381         Christmas at Home                Freeze The Frame           1   \n113504   Buena Vista Social Club               El Cuarto de Tula          14   \n113804   Buena Vista Social Club           De Camino a la Vereda          11   \n\n        duration_ms  explicit  danceability  energy  key  loudness  mode  \\\n25           302346     False         0.755   0.454    9    -9.609     0   \n29           131760     False         0.620   0.309    5    -9.209     1   \n1302         255227     False         0.782   0.922   11    -4.028     0   \n1452         296093     False         0.581   0.709    2   -13.307     1   \n1708         213186     False         0.562   0.722    4    -5.625     0   \n...             ...       ...           ...     ...  ...       ...   ...   \n113373       181143     False         0.226   0.279    0    -8.730     1   \n113375       250859     False         0.226   0.388    8    -8.440     1   \n113381       231873     False         0.392   0.285    5   -11.236     1   \n113504       445426     False         0.546   0.715    9   -11.927     1   \n113804       303973     False         0.630   0.462    3   -10.792     1   \n\n        speechiness  acousticness  instrumentalness  liveness  valence  \\\n25           0.0352       0.75700          0.000000    0.2360    0.330   \n29           0.0495       0.78800          0.000000    0.1460    0.664   \n1302         0.0497       0.00655          0.011800    0.0728    0.761   \n1452         0.0436       0.02680          0.232000    0.0398    0.816   \n1708         0.0280       0.01320          0.897000    0.1140    0.887   \n...             ...           ...               ...       ...      ...   \n113373       0.0299       0.73800          0.000000    0.1410    0.354   \n113375       0.0314       0.53500          0.000000    0.1030    0.158   \n113381       0.0309       0.69400          0.000000    0.1100    0.212   \n113504       0.0459       0.62100          0.000218    0.2940    0.850   \n113804       0.0406       0.84900          0.000186    0.1250    0.963   \n\n          tempo  time_signature  track_genre  \n25      120.060               4     acoustic  \n29      145.363               4     acoustic  \n1302    104.015               4     afrobeat  \n1452    132.096               4     afrobeat  \n1708    100.747               4     afrobeat  \n...         ...             ...          ...  \n113373  183.600               3  world-music  \n113375  114.126               4  world-music  \n113381   70.792               4  world-music  \n113504  104.905               4  world-music  \n113804   84.252               4  world-music  \n\n[4291 rows x 20 columns]",
      "text/html": "<div>\n<style scoped>\n    .dataframe tbody tr th:only-of-type {\n        vertical-align: middle;\n    }\n\n    .dataframe tbody tr th {\n        vertical-align: top;\n    }\n\n    .dataframe thead th {\n        text-align: right;\n    }\n</style>\n<table border=\"1\" class=\"dataframe\">\n  <thead>\n    <tr style=\"text-align: right;\">\n      <th></th>\n      <th>track_id</th>\n      <th>artists</th>\n      <th>album_name</th>\n      <th>track_name</th>\n      <th>popularity</th>\n      <th>duration_ms</th>\n      <th>explicit</th>\n      <th>danceability</th>\n      <th>energy</th>\n      <th>key</th>\n      <th>loudness</th>\n      <th>mode</th>\n      <th>speechiness</th>\n      <th>acousticness</th>\n      <th>instrumentalness</th>\n      <th>liveness</th>\n      <th>valence</th>\n      <th>tempo</th>\n      <th>time_signature</th>\n      <th>track_genre</th>\n    </tr>\n  </thead>\n  <tbody>\n    <tr>\n      <th>25</th>\n      <td>6D33wCKzWtNEgOovgeVJ7r</td>\n      <td>Jason Mraz</td>\n      <td>Mellow Adult Pop</td>\n      <td>Bella Luna</td>\n      <td>1</td>\n      <td>302346</td>\n      <td>False</td>\n      <td>0.755</td>\n      <td>0.454</td>\n      <td>9</td>\n      <td>-9.609</td>\n      <td>0</td>\n      <td>0.0352</td>\n      <td>0.75700</td>\n      <td>0.000000</td>\n      <td>0.2360</td>\n      <td>0.330</td>\n      <td>120.060</td>\n      <td>4</td>\n      <td>acoustic</td>\n    </tr>\n    <tr>\n      <th>29</th>\n      <td>2qESE1ZeWly7I3YjyTXmXh</td>\n      <td>Jason Mraz</td>\n      <td>Perfect Christmas Hits</td>\n      <td>Winter Wonderland</td>\n      <td>0</td>\n      <td>131760</td>\n      <td>False</td>\n      <td>0.620</td>\n      <td>0.309</td>\n      <td>5</td>\n      <td>-9.209</td>\n      <td>1</td>\n      <td>0.0495</td>\n      <td>0.78800</td>\n      <td>0.000000</td>\n      <td>0.1460</td>\n      <td>0.664</td>\n      <td>145.363</td>\n      <td>4</td>\n      <td>acoustic</td>\n    </tr>\n    <tr>\n      <th>1302</th>\n      <td>1Wb09hTo6O41UzdOq7Pd2i</td>\n      <td>The Bamboos</td>\n      <td>Hard Up (Deluxe Version)</td>\n      <td>Hard Up</td>\n      <td>12</td>\n      <td>255227</td>\n      <td>False</td>\n      <td>0.782</td>\n      <td>0.922</td>\n      <td>11</td>\n      <td>-4.028</td>\n      <td>0</td>\n      <td>0.0497</td>\n      <td>0.00655</td>\n      <td>0.011800</td>\n      <td>0.0728</td>\n      <td>0.761</td>\n      <td>104.015</td>\n      <td>4</td>\n      <td>afrobeat</td>\n    </tr>\n    <tr>\n      <th>1452</th>\n      <td>0rnDmgcZvn9WPsOPqHbt16</td>\n      <td>Osibisa</td>\n      <td>Ojah Awake</td>\n      <td>Ojah Awake</td>\n      <td>9</td>\n      <td>296093</td>\n      <td>False</td>\n      <td>0.581</td>\n      <td>0.709</td>\n      <td>2</td>\n      <td>-13.307</td>\n      <td>1</td>\n      <td>0.0436</td>\n      <td>0.02680</td>\n      <td>0.232000</td>\n      <td>0.0398</td>\n      <td>0.816</td>\n      <td>132.096</td>\n      <td>4</td>\n      <td>afrobeat</td>\n    </tr>\n    <tr>\n      <th>1708</th>\n      <td>2yLm7Y9foI71By8rAdYsFE</td>\n      <td>Dos Santos</td>\n      <td>Dos Santos</td>\n      <td>El Pescador</td>\n      <td>17</td>\n      <td>213186</td>\n      <td>False</td>\n      <td>0.562</td>\n      <td>0.722</td>\n      <td>4</td>\n      <td>-5.625</td>\n      <td>0</td>\n      <td>0.0280</td>\n      <td>0.01320</td>\n      <td>0.897000</td>\n      <td>0.1140</td>\n      <td>0.887</td>\n      <td>100.747</td>\n      <td>4</td>\n      <td>afrobeat</td>\n    </tr>\n    <tr>\n      <th>...</th>\n      <td>...</td>\n      <td>...</td>\n      <td>...</td>\n      <td>...</td>\n      <td>...</td>\n      <td>...</td>\n      <td>...</td>\n      <td>...</td>\n      <td>...</td>\n      <td>...</td>\n      <td>...</td>\n      <td>...</td>\n      <td>...</td>\n      <td>...</td>\n      <td>...</td>\n      <td>...</td>\n      <td>...</td>\n      <td>...</td>\n      <td>...</td>\n      <td>...</td>\n    </tr>\n    <tr>\n      <th>113373</th>\n      <td>0Z6NbNX43bPaHylvR2yvCV</td>\n      <td>Michael W. Smith</td>\n      <td>Christmas at Home</td>\n      <td>Christmas Is Here - Radio Edit</td>\n      <td>1</td>\n      <td>181143</td>\n      <td>False</td>\n      <td>0.226</td>\n      <td>0.279</td>\n      <td>0</td>\n      <td>-8.730</td>\n      <td>1</td>\n      <td>0.0299</td>\n      <td>0.73800</td>\n      <td>0.000000</td>\n      <td>0.1410</td>\n      <td>0.354</td>\n      <td>183.600</td>\n      <td>3</td>\n      <td>world-music</td>\n    </tr>\n    <tr>\n      <th>113375</th>\n      <td>2YEJL2fwTq6RpH5PtdQfge</td>\n      <td>Michael W. Smith</td>\n      <td>Christmas at Home</td>\n      <td>God with God</td>\n      <td>1</td>\n      <td>250859</td>\n      <td>False</td>\n      <td>0.226</td>\n      <td>0.388</td>\n      <td>8</td>\n      <td>-8.440</td>\n      <td>1</td>\n      <td>0.0314</td>\n      <td>0.53500</td>\n      <td>0.000000</td>\n      <td>0.1030</td>\n      <td>0.158</td>\n      <td>114.126</td>\n      <td>4</td>\n      <td>world-music</td>\n    </tr>\n    <tr>\n      <th>113381</th>\n      <td>7GwYyLNFyAsSsmt2aa0z6u</td>\n      <td>Michael W. Smith</td>\n      <td>Christmas at Home</td>\n      <td>Freeze The Frame</td>\n      <td>1</td>\n      <td>231873</td>\n      <td>False</td>\n      <td>0.392</td>\n      <td>0.285</td>\n      <td>5</td>\n      <td>-11.236</td>\n      <td>1</td>\n      <td>0.0309</td>\n      <td>0.69400</td>\n      <td>0.000000</td>\n      <td>0.1100</td>\n      <td>0.212</td>\n      <td>70.792</td>\n      <td>4</td>\n      <td>world-music</td>\n    </tr>\n    <tr>\n      <th>113504</th>\n      <td>5UjaOsrdoI4shw9gM2eNPC</td>\n      <td>Buena Vista Social Club</td>\n      <td>Buena Vista Social Club</td>\n      <td>El Cuarto de Tula</td>\n      <td>14</td>\n      <td>445426</td>\n      <td>False</td>\n      <td>0.546</td>\n      <td>0.715</td>\n      <td>9</td>\n      <td>-11.927</td>\n      <td>1</td>\n      <td>0.0459</td>\n      <td>0.62100</td>\n      <td>0.000218</td>\n      <td>0.2940</td>\n      <td>0.850</td>\n      <td>104.905</td>\n      <td>4</td>\n      <td>world-music</td>\n    </tr>\n    <tr>\n      <th>113804</th>\n      <td>11TMcTS3iao1dvMogUSQVk</td>\n      <td>Buena Vista Social Club</td>\n      <td>Buena Vista Social Club</td>\n      <td>De Camino a la Vereda</td>\n      <td>11</td>\n      <td>303973</td>\n      <td>False</td>\n      <td>0.630</td>\n      <td>0.462</td>\n      <td>3</td>\n      <td>-10.792</td>\n      <td>1</td>\n      <td>0.0406</td>\n      <td>0.84900</td>\n      <td>0.000186</td>\n      <td>0.1250</td>\n      <td>0.963</td>\n      <td>84.252</td>\n      <td>4</td>\n      <td>world-music</td>\n    </tr>\n  </tbody>\n</table>\n<p>4291 rows × 20 columns</p>\n</div>"
     },
     "execution_count": 85,
     "metadata": {},
     "output_type": "execute_result"
    }
   ],
   "source": [
    "original_dataset_with_lyric_and_spec_data = original_dataset_with_lyric_data[original_dataset_with_lyric_data['track_id'].isin(done_spectrograms)]\n",
    "original_dataset_with_lyric_and_spec_data"
   ],
   "metadata": {
    "collapsed": false
   }
  },
  {
   "cell_type": "code",
   "execution_count": 86,
   "outputs": [
    {
     "data": {
      "text/plain": "                      track_id                  artists  \\\n25      6D33wCKzWtNEgOovgeVJ7r               Jason Mraz   \n29      2qESE1ZeWly7I3YjyTXmXh               Jason Mraz   \n1302    1Wb09hTo6O41UzdOq7Pd2i              The Bamboos   \n1452    0rnDmgcZvn9WPsOPqHbt16                  Osibisa   \n1708    2yLm7Y9foI71By8rAdYsFE               Dos Santos   \n...                        ...                      ...   \n113373  0Z6NbNX43bPaHylvR2yvCV         Michael W. Smith   \n113375  2YEJL2fwTq6RpH5PtdQfge         Michael W. Smith   \n113381  7GwYyLNFyAsSsmt2aa0z6u         Michael W. Smith   \n113504  5UjaOsrdoI4shw9gM2eNPC  Buena Vista Social Club   \n113804  11TMcTS3iao1dvMogUSQVk  Buena Vista Social Club   \n\n                      album_name                      track_name  popularity  \\\n25              Mellow Adult Pop                      Bella Luna           1   \n29        Perfect Christmas Hits               Winter Wonderland           0   \n1302    Hard Up (Deluxe Version)                         Hard Up          12   \n1452                  Ojah Awake                      Ojah Awake           9   \n1708                  Dos Santos                     El Pescador          17   \n...                          ...                             ...         ...   \n113373         Christmas at Home  Christmas Is Here - Radio Edit           1   \n113375         Christmas at Home                    God with God           1   \n113381         Christmas at Home                Freeze The Frame           1   \n113504   Buena Vista Social Club               El Cuarto de Tula          14   \n113804   Buena Vista Social Club           De Camino a la Vereda          11   \n\n        duration_ms  explicit  danceability  energy  key  ...  mode  \\\n25           302346     False         0.755   0.454    9  ...     0   \n29           131760     False         0.620   0.309    5  ...     1   \n1302         255227     False         0.782   0.922   11  ...     0   \n1452         296093     False         0.581   0.709    2  ...     1   \n1708         213186     False         0.562   0.722    4  ...     0   \n...             ...       ...           ...     ...  ...  ...   ...   \n113373       181143     False         0.226   0.279    0  ...     1   \n113375       250859     False         0.226   0.388    8  ...     1   \n113381       231873     False         0.392   0.285    5  ...     1   \n113504       445426     False         0.546   0.715    9  ...     1   \n113804       303973     False         0.630   0.462    3  ...     1   \n\n        speechiness  acousticness  instrumentalness  liveness  valence  \\\n25           0.0352       0.75700          0.000000    0.2360    0.330   \n29           0.0495       0.78800          0.000000    0.1460    0.664   \n1302         0.0497       0.00655          0.011800    0.0728    0.761   \n1452         0.0436       0.02680          0.232000    0.0398    0.816   \n1708         0.0280       0.01320          0.897000    0.1140    0.887   \n...             ...           ...               ...       ...      ...   \n113373       0.0299       0.73800          0.000000    0.1410    0.354   \n113375       0.0314       0.53500          0.000000    0.1030    0.158   \n113381       0.0309       0.69400          0.000000    0.1100    0.212   \n113504       0.0459       0.62100          0.000218    0.2940    0.850   \n113804       0.0406       0.84900          0.000186    0.1250    0.963   \n\n          tempo  time_signature  track_genre  \\\n25      120.060               4     acoustic   \n29      145.363               4     acoustic   \n1302    104.015               4     afrobeat   \n1452    132.096               4     afrobeat   \n1708    100.747               4     afrobeat   \n...         ...             ...          ...   \n113373  183.600               3  world-music   \n113375  114.126               4  world-music   \n113381   70.792               4  world-music   \n113504  104.905               4  world-music   \n113804   84.252               4  world-music   \n\n                                                        y  \n25          [0.454, 9.0, 0.757, 0.0, 0.236, 0.33, 120.06]  \n29        [0.309, 5.0, 0.788, 0.0, 0.146, 0.664, 145.363]  \n1302    [0.922, 11.0, 0.00655, 0.0118, 0.0728, 0.761, ...  \n1452    [0.709, 2.0, 0.0268, 0.232, 0.0398, 0.816, 132...  \n1708    [0.722, 4.0, 0.0132, 0.897, 0.114, 0.887, 100....  \n...                                                   ...  \n113373      [0.279, 0.0, 0.738, 0.0, 0.141, 0.354, 183.6]  \n113375    [0.388, 8.0, 0.535, 0.0, 0.103, 0.158, 114.126]  \n113381      [0.285, 5.0, 0.694, 0.0, 0.11, 0.212, 70.792]  \n113504  [0.715, 9.0, 0.621, 0.000218, 0.294, 0.85, 104...  \n113804  [0.462, 3.0, 0.849, 0.000186, 0.125, 0.963, 84...  \n\n[4291 rows x 21 columns]",
      "text/html": "<div>\n<style scoped>\n    .dataframe tbody tr th:only-of-type {\n        vertical-align: middle;\n    }\n\n    .dataframe tbody tr th {\n        vertical-align: top;\n    }\n\n    .dataframe thead th {\n        text-align: right;\n    }\n</style>\n<table border=\"1\" class=\"dataframe\">\n  <thead>\n    <tr style=\"text-align: right;\">\n      <th></th>\n      <th>track_id</th>\n      <th>artists</th>\n      <th>album_name</th>\n      <th>track_name</th>\n      <th>popularity</th>\n      <th>duration_ms</th>\n      <th>explicit</th>\n      <th>danceability</th>\n      <th>energy</th>\n      <th>key</th>\n      <th>...</th>\n      <th>mode</th>\n      <th>speechiness</th>\n      <th>acousticness</th>\n      <th>instrumentalness</th>\n      <th>liveness</th>\n      <th>valence</th>\n      <th>tempo</th>\n      <th>time_signature</th>\n      <th>track_genre</th>\n      <th>y</th>\n    </tr>\n  </thead>\n  <tbody>\n    <tr>\n      <th>25</th>\n      <td>6D33wCKzWtNEgOovgeVJ7r</td>\n      <td>Jason Mraz</td>\n      <td>Mellow Adult Pop</td>\n      <td>Bella Luna</td>\n      <td>1</td>\n      <td>302346</td>\n      <td>False</td>\n      <td>0.755</td>\n      <td>0.454</td>\n      <td>9</td>\n      <td>...</td>\n      <td>0</td>\n      <td>0.0352</td>\n      <td>0.75700</td>\n      <td>0.000000</td>\n      <td>0.2360</td>\n      <td>0.330</td>\n      <td>120.060</td>\n      <td>4</td>\n      <td>acoustic</td>\n      <td>[0.454, 9.0, 0.757, 0.0, 0.236, 0.33, 120.06]</td>\n    </tr>\n    <tr>\n      <th>29</th>\n      <td>2qESE1ZeWly7I3YjyTXmXh</td>\n      <td>Jason Mraz</td>\n      <td>Perfect Christmas Hits</td>\n      <td>Winter Wonderland</td>\n      <td>0</td>\n      <td>131760</td>\n      <td>False</td>\n      <td>0.620</td>\n      <td>0.309</td>\n      <td>5</td>\n      <td>...</td>\n      <td>1</td>\n      <td>0.0495</td>\n      <td>0.78800</td>\n      <td>0.000000</td>\n      <td>0.1460</td>\n      <td>0.664</td>\n      <td>145.363</td>\n      <td>4</td>\n      <td>acoustic</td>\n      <td>[0.309, 5.0, 0.788, 0.0, 0.146, 0.664, 145.363]</td>\n    </tr>\n    <tr>\n      <th>1302</th>\n      <td>1Wb09hTo6O41UzdOq7Pd2i</td>\n      <td>The Bamboos</td>\n      <td>Hard Up (Deluxe Version)</td>\n      <td>Hard Up</td>\n      <td>12</td>\n      <td>255227</td>\n      <td>False</td>\n      <td>0.782</td>\n      <td>0.922</td>\n      <td>11</td>\n      <td>...</td>\n      <td>0</td>\n      <td>0.0497</td>\n      <td>0.00655</td>\n      <td>0.011800</td>\n      <td>0.0728</td>\n      <td>0.761</td>\n      <td>104.015</td>\n      <td>4</td>\n      <td>afrobeat</td>\n      <td>[0.922, 11.0, 0.00655, 0.0118, 0.0728, 0.761, ...</td>\n    </tr>\n    <tr>\n      <th>1452</th>\n      <td>0rnDmgcZvn9WPsOPqHbt16</td>\n      <td>Osibisa</td>\n      <td>Ojah Awake</td>\n      <td>Ojah Awake</td>\n      <td>9</td>\n      <td>296093</td>\n      <td>False</td>\n      <td>0.581</td>\n      <td>0.709</td>\n      <td>2</td>\n      <td>...</td>\n      <td>1</td>\n      <td>0.0436</td>\n      <td>0.02680</td>\n      <td>0.232000</td>\n      <td>0.0398</td>\n      <td>0.816</td>\n      <td>132.096</td>\n      <td>4</td>\n      <td>afrobeat</td>\n      <td>[0.709, 2.0, 0.0268, 0.232, 0.0398, 0.816, 132...</td>\n    </tr>\n    <tr>\n      <th>1708</th>\n      <td>2yLm7Y9foI71By8rAdYsFE</td>\n      <td>Dos Santos</td>\n      <td>Dos Santos</td>\n      <td>El Pescador</td>\n      <td>17</td>\n      <td>213186</td>\n      <td>False</td>\n      <td>0.562</td>\n      <td>0.722</td>\n      <td>4</td>\n      <td>...</td>\n      <td>0</td>\n      <td>0.0280</td>\n      <td>0.01320</td>\n      <td>0.897000</td>\n      <td>0.1140</td>\n      <td>0.887</td>\n      <td>100.747</td>\n      <td>4</td>\n      <td>afrobeat</td>\n      <td>[0.722, 4.0, 0.0132, 0.897, 0.114, 0.887, 100....</td>\n    </tr>\n    <tr>\n      <th>...</th>\n      <td>...</td>\n      <td>...</td>\n      <td>...</td>\n      <td>...</td>\n      <td>...</td>\n      <td>...</td>\n      <td>...</td>\n      <td>...</td>\n      <td>...</td>\n      <td>...</td>\n      <td>...</td>\n      <td>...</td>\n      <td>...</td>\n      <td>...</td>\n      <td>...</td>\n      <td>...</td>\n      <td>...</td>\n      <td>...</td>\n      <td>...</td>\n      <td>...</td>\n      <td>...</td>\n    </tr>\n    <tr>\n      <th>113373</th>\n      <td>0Z6NbNX43bPaHylvR2yvCV</td>\n      <td>Michael W. Smith</td>\n      <td>Christmas at Home</td>\n      <td>Christmas Is Here - Radio Edit</td>\n      <td>1</td>\n      <td>181143</td>\n      <td>False</td>\n      <td>0.226</td>\n      <td>0.279</td>\n      <td>0</td>\n      <td>...</td>\n      <td>1</td>\n      <td>0.0299</td>\n      <td>0.73800</td>\n      <td>0.000000</td>\n      <td>0.1410</td>\n      <td>0.354</td>\n      <td>183.600</td>\n      <td>3</td>\n      <td>world-music</td>\n      <td>[0.279, 0.0, 0.738, 0.0, 0.141, 0.354, 183.6]</td>\n    </tr>\n    <tr>\n      <th>113375</th>\n      <td>2YEJL2fwTq6RpH5PtdQfge</td>\n      <td>Michael W. Smith</td>\n      <td>Christmas at Home</td>\n      <td>God with God</td>\n      <td>1</td>\n      <td>250859</td>\n      <td>False</td>\n      <td>0.226</td>\n      <td>0.388</td>\n      <td>8</td>\n      <td>...</td>\n      <td>1</td>\n      <td>0.0314</td>\n      <td>0.53500</td>\n      <td>0.000000</td>\n      <td>0.1030</td>\n      <td>0.158</td>\n      <td>114.126</td>\n      <td>4</td>\n      <td>world-music</td>\n      <td>[0.388, 8.0, 0.535, 0.0, 0.103, 0.158, 114.126]</td>\n    </tr>\n    <tr>\n      <th>113381</th>\n      <td>7GwYyLNFyAsSsmt2aa0z6u</td>\n      <td>Michael W. Smith</td>\n      <td>Christmas at Home</td>\n      <td>Freeze The Frame</td>\n      <td>1</td>\n      <td>231873</td>\n      <td>False</td>\n      <td>0.392</td>\n      <td>0.285</td>\n      <td>5</td>\n      <td>...</td>\n      <td>1</td>\n      <td>0.0309</td>\n      <td>0.69400</td>\n      <td>0.000000</td>\n      <td>0.1100</td>\n      <td>0.212</td>\n      <td>70.792</td>\n      <td>4</td>\n      <td>world-music</td>\n      <td>[0.285, 5.0, 0.694, 0.0, 0.11, 0.212, 70.792]</td>\n    </tr>\n    <tr>\n      <th>113504</th>\n      <td>5UjaOsrdoI4shw9gM2eNPC</td>\n      <td>Buena Vista Social Club</td>\n      <td>Buena Vista Social Club</td>\n      <td>El Cuarto de Tula</td>\n      <td>14</td>\n      <td>445426</td>\n      <td>False</td>\n      <td>0.546</td>\n      <td>0.715</td>\n      <td>9</td>\n      <td>...</td>\n      <td>1</td>\n      <td>0.0459</td>\n      <td>0.62100</td>\n      <td>0.000218</td>\n      <td>0.2940</td>\n      <td>0.850</td>\n      <td>104.905</td>\n      <td>4</td>\n      <td>world-music</td>\n      <td>[0.715, 9.0, 0.621, 0.000218, 0.294, 0.85, 104...</td>\n    </tr>\n    <tr>\n      <th>113804</th>\n      <td>11TMcTS3iao1dvMogUSQVk</td>\n      <td>Buena Vista Social Club</td>\n      <td>Buena Vista Social Club</td>\n      <td>De Camino a la Vereda</td>\n      <td>11</td>\n      <td>303973</td>\n      <td>False</td>\n      <td>0.630</td>\n      <td>0.462</td>\n      <td>3</td>\n      <td>...</td>\n      <td>1</td>\n      <td>0.0406</td>\n      <td>0.84900</td>\n      <td>0.000186</td>\n      <td>0.1250</td>\n      <td>0.963</td>\n      <td>84.252</td>\n      <td>4</td>\n      <td>world-music</td>\n      <td>[0.462, 3.0, 0.849, 0.000186, 0.125, 0.963, 84...</td>\n    </tr>\n  </tbody>\n</table>\n<p>4291 rows × 21 columns</p>\n</div>"
     },
     "execution_count": 86,
     "metadata": {},
     "output_type": "execute_result"
    }
   ],
   "source": [
    "import numpy as np\n",
    "final_dataset_combined_outputs = original_dataset_with_lyric_and_spec_data.copy()\n",
    "\n",
    "final_dataset_combined_outputs['y'] = original_dataset_with_lyric_and_spec_data.apply(lambda x: np.array([*x[8:10], *x[13:18]], dtype=np.float32), axis=1)\n",
    "\n",
    "final_dataset_combined_outputs"
   ],
   "metadata": {
    "collapsed": false
   }
  },
  {
   "cell_type": "code",
   "execution_count": 87,
   "outputs": [
    {
     "data": {
      "text/plain": "Index(['track_id', 'artists', 'album_name', 'track_name', 'popularity',\n       'duration_ms', 'explicit', 'danceability', 'energy', 'key', 'loudness',\n       'mode', 'speechiness', 'acousticness', 'instrumentalness', 'liveness',\n       'valence', 'tempo', 'time_signature', 'track_genre', 'y'],\n      dtype='object')"
     },
     "execution_count": 87,
     "metadata": {},
     "output_type": "execute_result"
    }
   ],
   "source": [
    "final_dataset_combined_outputs.columns"
   ],
   "metadata": {
    "collapsed": false
   }
  },
  {
   "cell_type": "code",
   "execution_count": 88,
   "outputs": [],
   "source": [
    "dataset_with_original_outputs = final_dataset_combined_outputs[['track_id', 'y']]"
   ],
   "metadata": {
    "collapsed": false
   }
  },
  {
   "cell_type": "code",
   "execution_count": 89,
   "outputs": [
    {
     "data": {
      "text/plain": "Index(['Artist', 'Song', 'Lyrics', 'negative', 'neutral', 'positive'], dtype='object')"
     },
     "execution_count": 89,
     "metadata": {},
     "output_type": "execute_result"
    }
   ],
   "source": [
    "sentiment = pd.read_csv(\"dataset_sentiment.csv\")\n",
    "sentiment.drop(columns=['Unnamed: 0', 'Unnamed: 0.1', 'compound'], inplace=True)\n",
    "sentiment.columns"
   ],
   "metadata": {
    "collapsed": false
   }
  },
  {
   "cell_type": "code",
   "execution_count": 90,
   "outputs": [
    {
     "name": "stdout",
     "output_type": "stream",
     "text": [
      "Index(['track_id', 'SongArtist'], dtype='object')\n"
     ]
    },
    {
     "data": {
      "text/plain": "      negative  neutral  positive  \\\n0        0.135    0.681     0.184   \n1        0.065    0.729     0.206   \n2        0.079    0.830     0.091   \n3        0.096    0.679     0.224   \n4        0.051    0.734     0.215   \n...        ...      ...       ...   \n8729     0.143    0.518     0.339   \n8730     0.000    1.000     0.000   \n8731     0.339    0.594     0.067   \n8732     0.000    1.000     0.000   \n8733     0.289    0.616     0.095   \n\n                                             SongArtist  \n0                             Kidz Bop KidsGhostbusters  \n1     Creedence Clearwater RevivalHave You Ever Seen...  \n2                           All Time LowBlinding Lights  \n3                                       BastillePompeii  \n4                              Bryan AdamsSummer Of '69  \n...                                                 ...  \n8729                       High ContrastCalling My Name  \n8730                               Paul KalkbrennerTief  \n8731                             HypocrisyA Coming Race  \n8732                                   Chloe AgnewSigma  \n8733  Dan Vapid & the CheatsI Wanna Go to Machu Picc...  \n\n[8734 rows x 4 columns]",
      "text/html": "<div>\n<style scoped>\n    .dataframe tbody tr th:only-of-type {\n        vertical-align: middle;\n    }\n\n    .dataframe tbody tr th {\n        vertical-align: top;\n    }\n\n    .dataframe thead th {\n        text-align: right;\n    }\n</style>\n<table border=\"1\" class=\"dataframe\">\n  <thead>\n    <tr style=\"text-align: right;\">\n      <th></th>\n      <th>negative</th>\n      <th>neutral</th>\n      <th>positive</th>\n      <th>SongArtist</th>\n    </tr>\n  </thead>\n  <tbody>\n    <tr>\n      <th>0</th>\n      <td>0.135</td>\n      <td>0.681</td>\n      <td>0.184</td>\n      <td>Kidz Bop KidsGhostbusters</td>\n    </tr>\n    <tr>\n      <th>1</th>\n      <td>0.065</td>\n      <td>0.729</td>\n      <td>0.206</td>\n      <td>Creedence Clearwater RevivalHave You Ever Seen...</td>\n    </tr>\n    <tr>\n      <th>2</th>\n      <td>0.079</td>\n      <td>0.830</td>\n      <td>0.091</td>\n      <td>All Time LowBlinding Lights</td>\n    </tr>\n    <tr>\n      <th>3</th>\n      <td>0.096</td>\n      <td>0.679</td>\n      <td>0.224</td>\n      <td>BastillePompeii</td>\n    </tr>\n    <tr>\n      <th>4</th>\n      <td>0.051</td>\n      <td>0.734</td>\n      <td>0.215</td>\n      <td>Bryan AdamsSummer Of '69</td>\n    </tr>\n    <tr>\n      <th>...</th>\n      <td>...</td>\n      <td>...</td>\n      <td>...</td>\n      <td>...</td>\n    </tr>\n    <tr>\n      <th>8729</th>\n      <td>0.143</td>\n      <td>0.518</td>\n      <td>0.339</td>\n      <td>High ContrastCalling My Name</td>\n    </tr>\n    <tr>\n      <th>8730</th>\n      <td>0.000</td>\n      <td>1.000</td>\n      <td>0.000</td>\n      <td>Paul KalkbrennerTief</td>\n    </tr>\n    <tr>\n      <th>8731</th>\n      <td>0.339</td>\n      <td>0.594</td>\n      <td>0.067</td>\n      <td>HypocrisyA Coming Race</td>\n    </tr>\n    <tr>\n      <th>8732</th>\n      <td>0.000</td>\n      <td>1.000</td>\n      <td>0.000</td>\n      <td>Chloe AgnewSigma</td>\n    </tr>\n    <tr>\n      <th>8733</th>\n      <td>0.289</td>\n      <td>0.616</td>\n      <td>0.095</td>\n      <td>Dan Vapid &amp; the CheatsI Wanna Go to Machu Picc...</td>\n    </tr>\n  </tbody>\n</table>\n<p>8734 rows × 4 columns</p>\n</div>"
     },
     "execution_count": 90,
     "metadata": {},
     "output_type": "execute_result"
    }
   ],
   "source": [
    "lyrics_with_trackid_for_merge = lyrics_with_trackid.copy()\n",
    "lyrics_with_trackid_for_merge['SongArtist'] = lyrics_with_trackid.apply(lambda x: x[0] + x[1], axis=1)\n",
    "lyrics_with_trackid_for_merge.drop(columns=['Artist', 'Song', 'Lyrics'], inplace=True)\n",
    "print(lyrics_with_trackid_for_merge.columns)\n",
    "\n",
    "sentiment_for_merge = sentiment.copy()\n",
    "sentiment_for_merge['SongArtist'] = sentiment.apply(lambda x: x[0] + x[1], axis=1)\n",
    "sentiment_for_merge.drop(columns=['Artist', 'Song', 'Lyrics'], inplace=True)\n",
    "sentiment_for_merge"
   ],
   "metadata": {
    "collapsed": false
   }
  },
  {
   "cell_type": "code",
   "execution_count": 91,
   "outputs": [
    {
     "data": {
      "text/plain": "                     track_id  \\\n0      5IWLGZJR6d8pl5a5tka18u   \n1      49oArb5U9DsUXpPSjDPsob   \n2      3bkgyThZ4ImhlQNgVRo850   \n3      3oaqIiIIu9KUrfqE4AeT93   \n4      1zzwcBhUh3TqB2sVJWH84i   \n...                       ...   \n33223  6x0LElzW1utVgphlTnqsX5   \n33224  6PWDT5ZY8Fz5AZTu9CAeTy   \n33225  7KDZ0tye2U1ImgVbr36eKp   \n33226  7oqZVbE2W4MCoMS34PPDr3   \n33227  3mUfADjtWU3XnQW2FPtBch   \n\n                                              SongArtist  negative  neutral  \\\n0                              Kidz Bop KidsGhostbusters     0.135    0.681   \n1      Creedence Clearwater RevivalHave You Ever Seen...     0.065    0.729   \n2                            All Time LowBlinding Lights     0.079    0.830   \n3                                        BastillePompeii     0.096    0.679   \n4                               Bryan AdamsSummer Of '69     0.051    0.734   \n...                                                  ...       ...      ...   \n33223                       High ContrastCalling My Name     0.143    0.518   \n33224                               Paul KalkbrennerTief     0.000    1.000   \n33225                             HypocrisyA Coming Race     0.339    0.594   \n33226                                   Chloe AgnewSigma     0.000    1.000   \n33227  Dan Vapid & the CheatsI Wanna Go to Machu Picc...     0.289    0.616   \n\n       positive  \n0         0.184  \n1         0.206  \n2         0.091  \n3         0.224  \n4         0.215  \n...         ...  \n33223     0.339  \n33224     0.000  \n33225     0.067  \n33226     0.000  \n33227     0.095  \n\n[3936 rows x 5 columns]",
      "text/html": "<div>\n<style scoped>\n    .dataframe tbody tr th:only-of-type {\n        vertical-align: middle;\n    }\n\n    .dataframe tbody tr th {\n        vertical-align: top;\n    }\n\n    .dataframe thead th {\n        text-align: right;\n    }\n</style>\n<table border=\"1\" class=\"dataframe\">\n  <thead>\n    <tr style=\"text-align: right;\">\n      <th></th>\n      <th>track_id</th>\n      <th>SongArtist</th>\n      <th>negative</th>\n      <th>neutral</th>\n      <th>positive</th>\n    </tr>\n  </thead>\n  <tbody>\n    <tr>\n      <th>0</th>\n      <td>5IWLGZJR6d8pl5a5tka18u</td>\n      <td>Kidz Bop KidsGhostbusters</td>\n      <td>0.135</td>\n      <td>0.681</td>\n      <td>0.184</td>\n    </tr>\n    <tr>\n      <th>1</th>\n      <td>49oArb5U9DsUXpPSjDPsob</td>\n      <td>Creedence Clearwater RevivalHave You Ever Seen...</td>\n      <td>0.065</td>\n      <td>0.729</td>\n      <td>0.206</td>\n    </tr>\n    <tr>\n      <th>2</th>\n      <td>3bkgyThZ4ImhlQNgVRo850</td>\n      <td>All Time LowBlinding Lights</td>\n      <td>0.079</td>\n      <td>0.830</td>\n      <td>0.091</td>\n    </tr>\n    <tr>\n      <th>3</th>\n      <td>3oaqIiIIu9KUrfqE4AeT93</td>\n      <td>BastillePompeii</td>\n      <td>0.096</td>\n      <td>0.679</td>\n      <td>0.224</td>\n    </tr>\n    <tr>\n      <th>4</th>\n      <td>1zzwcBhUh3TqB2sVJWH84i</td>\n      <td>Bryan AdamsSummer Of '69</td>\n      <td>0.051</td>\n      <td>0.734</td>\n      <td>0.215</td>\n    </tr>\n    <tr>\n      <th>...</th>\n      <td>...</td>\n      <td>...</td>\n      <td>...</td>\n      <td>...</td>\n      <td>...</td>\n    </tr>\n    <tr>\n      <th>33223</th>\n      <td>6x0LElzW1utVgphlTnqsX5</td>\n      <td>High ContrastCalling My Name</td>\n      <td>0.143</td>\n      <td>0.518</td>\n      <td>0.339</td>\n    </tr>\n    <tr>\n      <th>33224</th>\n      <td>6PWDT5ZY8Fz5AZTu9CAeTy</td>\n      <td>Paul KalkbrennerTief</td>\n      <td>0.000</td>\n      <td>1.000</td>\n      <td>0.000</td>\n    </tr>\n    <tr>\n      <th>33225</th>\n      <td>7KDZ0tye2U1ImgVbr36eKp</td>\n      <td>HypocrisyA Coming Race</td>\n      <td>0.339</td>\n      <td>0.594</td>\n      <td>0.067</td>\n    </tr>\n    <tr>\n      <th>33226</th>\n      <td>7oqZVbE2W4MCoMS34PPDr3</td>\n      <td>Chloe AgnewSigma</td>\n      <td>0.000</td>\n      <td>1.000</td>\n      <td>0.000</td>\n    </tr>\n    <tr>\n      <th>33227</th>\n      <td>3mUfADjtWU3XnQW2FPtBch</td>\n      <td>Dan Vapid &amp; the CheatsI Wanna Go to Machu Picc...</td>\n      <td>0.289</td>\n      <td>0.616</td>\n      <td>0.095</td>\n    </tr>\n  </tbody>\n</table>\n<p>3936 rows × 5 columns</p>\n</div>"
     },
     "execution_count": 91,
     "metadata": {},
     "output_type": "execute_result"
    }
   ],
   "source": [
    "sentiment_with_trackid = lyrics_with_trackid_for_merge.merge(sentiment_for_merge, left_on='SongArtist', right_on='SongArtist')\n",
    "sentiment_with_trackid.drop_duplicates(inplace=True)\n",
    "sentiment_with_trackid"
   ],
   "metadata": {
    "collapsed": false
   }
  },
  {
   "cell_type": "code",
   "execution_count": 92,
   "outputs": [
    {
     "data": {
      "text/plain": "                     track_id  negative  neutral  positive\n0      5IWLGZJR6d8pl5a5tka18u     0.135    0.681     0.184\n1      49oArb5U9DsUXpPSjDPsob     0.065    0.729     0.206\n2      3bkgyThZ4ImhlQNgVRo850     0.079    0.830     0.091\n3      3oaqIiIIu9KUrfqE4AeT93     0.096    0.679     0.224\n4      1zzwcBhUh3TqB2sVJWH84i     0.051    0.734     0.215\n...                       ...       ...      ...       ...\n33223  6x0LElzW1utVgphlTnqsX5     0.143    0.518     0.339\n33224  6PWDT5ZY8Fz5AZTu9CAeTy     0.000    1.000     0.000\n33225  7KDZ0tye2U1ImgVbr36eKp     0.339    0.594     0.067\n33226  7oqZVbE2W4MCoMS34PPDr3     0.000    1.000     0.000\n33227  3mUfADjtWU3XnQW2FPtBch     0.289    0.616     0.095\n\n[3936 rows x 4 columns]",
      "text/html": "<div>\n<style scoped>\n    .dataframe tbody tr th:only-of-type {\n        vertical-align: middle;\n    }\n\n    .dataframe tbody tr th {\n        vertical-align: top;\n    }\n\n    .dataframe thead th {\n        text-align: right;\n    }\n</style>\n<table border=\"1\" class=\"dataframe\">\n  <thead>\n    <tr style=\"text-align: right;\">\n      <th></th>\n      <th>track_id</th>\n      <th>negative</th>\n      <th>neutral</th>\n      <th>positive</th>\n    </tr>\n  </thead>\n  <tbody>\n    <tr>\n      <th>0</th>\n      <td>5IWLGZJR6d8pl5a5tka18u</td>\n      <td>0.135</td>\n      <td>0.681</td>\n      <td>0.184</td>\n    </tr>\n    <tr>\n      <th>1</th>\n      <td>49oArb5U9DsUXpPSjDPsob</td>\n      <td>0.065</td>\n      <td>0.729</td>\n      <td>0.206</td>\n    </tr>\n    <tr>\n      <th>2</th>\n      <td>3bkgyThZ4ImhlQNgVRo850</td>\n      <td>0.079</td>\n      <td>0.830</td>\n      <td>0.091</td>\n    </tr>\n    <tr>\n      <th>3</th>\n      <td>3oaqIiIIu9KUrfqE4AeT93</td>\n      <td>0.096</td>\n      <td>0.679</td>\n      <td>0.224</td>\n    </tr>\n    <tr>\n      <th>4</th>\n      <td>1zzwcBhUh3TqB2sVJWH84i</td>\n      <td>0.051</td>\n      <td>0.734</td>\n      <td>0.215</td>\n    </tr>\n    <tr>\n      <th>...</th>\n      <td>...</td>\n      <td>...</td>\n      <td>...</td>\n      <td>...</td>\n    </tr>\n    <tr>\n      <th>33223</th>\n      <td>6x0LElzW1utVgphlTnqsX5</td>\n      <td>0.143</td>\n      <td>0.518</td>\n      <td>0.339</td>\n    </tr>\n    <tr>\n      <th>33224</th>\n      <td>6PWDT5ZY8Fz5AZTu9CAeTy</td>\n      <td>0.000</td>\n      <td>1.000</td>\n      <td>0.000</td>\n    </tr>\n    <tr>\n      <th>33225</th>\n      <td>7KDZ0tye2U1ImgVbr36eKp</td>\n      <td>0.339</td>\n      <td>0.594</td>\n      <td>0.067</td>\n    </tr>\n    <tr>\n      <th>33226</th>\n      <td>7oqZVbE2W4MCoMS34PPDr3</td>\n      <td>0.000</td>\n      <td>1.000</td>\n      <td>0.000</td>\n    </tr>\n    <tr>\n      <th>33227</th>\n      <td>3mUfADjtWU3XnQW2FPtBch</td>\n      <td>0.289</td>\n      <td>0.616</td>\n      <td>0.095</td>\n    </tr>\n  </tbody>\n</table>\n<p>3936 rows × 4 columns</p>\n</div>"
     },
     "execution_count": 92,
     "metadata": {},
     "output_type": "execute_result"
    }
   ],
   "source": [
    "sentiment_x = sentiment_with_trackid[['track_id', 'negative', 'neutral', 'positive']]\n",
    "sentiment_x"
   ],
   "metadata": {
    "collapsed": false
   }
  },
  {
   "cell_type": "code",
   "execution_count": 93,
   "outputs": [
    {
     "data": {
      "text/plain": "                    track_id                  artists  \\\n0     6D33wCKzWtNEgOovgeVJ7r               Jason Mraz   \n1     6D33wCKzWtNEgOovgeVJ7r               Jason Mraz   \n2     2qESE1ZeWly7I3YjyTXmXh               Jason Mraz   \n3     2qESE1ZeWly7I3YjyTXmXh               Jason Mraz   \n4     1Wb09hTo6O41UzdOq7Pd2i              The Bamboos   \n...                      ...                      ...   \n4546  2YEJL2fwTq6RpH5PtdQfge         Michael W. Smith   \n4547  7GwYyLNFyAsSsmt2aa0z6u         Michael W. Smith   \n4548  5UjaOsrdoI4shw9gM2eNPC  Buena Vista Social Club   \n4549  11TMcTS3iao1dvMogUSQVk  Buena Vista Social Club   \n4550  11TMcTS3iao1dvMogUSQVk  Buena Vista Social Club   \n\n                    album_name             track_name  popularity  \\\n0             Mellow Adult Pop             Bella Luna           1   \n1             Mellow Adult Pop             Bella Luna           1   \n2       Perfect Christmas Hits      Winter Wonderland           0   \n3       Perfect Christmas Hits      Winter Wonderland           1   \n4     Hard Up (Deluxe Version)                Hard Up          12   \n...                        ...                    ...         ...   \n4546         Christmas at Home           God with God           1   \n4547         Christmas at Home       Freeze The Frame           1   \n4548   Buena Vista Social Club      El Cuarto de Tula          14   \n4549   Buena Vista Social Club  De Camino a la Vereda          11   \n4550   Buena Vista Social Club  De Camino a la Vereda          11   \n\n      duration_ms  explicit  danceability  energy  key  ...  instrumentalness  \\\n0          302346     False         0.755   0.454    9  ...          0.000000   \n1          302346     False         0.755   0.454    9  ...          0.000000   \n2          131760     False         0.620   0.309    5  ...          0.000000   \n3          131760     False         0.620   0.309    5  ...          0.000000   \n4          255227     False         0.782   0.922   11  ...          0.011800   \n...           ...       ...           ...     ...  ...  ...               ...   \n4546       250859     False         0.226   0.388    8  ...          0.000000   \n4547       231873     False         0.392   0.285    5  ...          0.000000   \n4548       445426     False         0.546   0.715    9  ...          0.000218   \n4549       303973     False         0.630   0.462    3  ...          0.000186   \n4550       303973     False         0.630   0.462    3  ...          0.000186   \n\n      liveness  valence    tempo  time_signature  track_genre  \\\n0       0.2360    0.330  120.060               4     acoustic   \n1       0.2360    0.330  120.060               4         rock   \n2       0.1460    0.664  145.363               4     acoustic   \n3       0.1460    0.664  145.363               4         rock   \n4       0.0728    0.761  104.015               4     afrobeat   \n...        ...      ...      ...             ...          ...   \n4546    0.1030    0.158  114.126               4  world-music   \n4547    0.1100    0.212   70.792               4  world-music   \n4548    0.2940    0.850  104.905               4  world-music   \n4549    0.1250    0.963   84.252               4  world-music   \n4550    0.1250    0.963   84.252               4  world-music   \n\n                                                      y  negative  neutral  \\\n0         [0.454, 9.0, 0.757, 0.0, 0.236, 0.33, 120.06]     0.056    0.592   \n1         [0.454, 9.0, 0.757, 0.0, 0.236, 0.33, 120.06]     0.056    0.592   \n2       [0.309, 5.0, 0.788, 0.0, 0.146, 0.664, 145.363]     0.122    0.682   \n3       [0.309, 5.0, 0.788, 0.0, 0.146, 0.664, 145.363]     0.122    0.682   \n4     [0.922, 11.0, 0.00655, 0.0118, 0.0728, 0.761, ...     0.164    0.723   \n...                                                 ...       ...      ...   \n4546    [0.388, 8.0, 0.535, 0.0, 0.103, 0.158, 114.126]     0.043    0.708   \n4547      [0.285, 5.0, 0.694, 0.0, 0.11, 0.212, 70.792]     0.239    0.508   \n4548  [0.715, 9.0, 0.621, 0.000218, 0.294, 0.85, 104...     0.000    0.963   \n4549  [0.462, 3.0, 0.849, 0.000186, 0.125, 0.963, 84...     0.028    0.887   \n4550  [0.462, 3.0, 0.849, 0.000186, 0.125, 0.963, 84...     0.000    0.986   \n\n     positive  \n0       0.353  \n1       0.353  \n2       0.196  \n3       0.196  \n4       0.113  \n...       ...  \n4546    0.249  \n4547    0.254  \n4548    0.037  \n4549    0.086  \n4550    0.014  \n\n[4551 rows x 24 columns]",
      "text/html": "<div>\n<style scoped>\n    .dataframe tbody tr th:only-of-type {\n        vertical-align: middle;\n    }\n\n    .dataframe tbody tr th {\n        vertical-align: top;\n    }\n\n    .dataframe thead th {\n        text-align: right;\n    }\n</style>\n<table border=\"1\" class=\"dataframe\">\n  <thead>\n    <tr style=\"text-align: right;\">\n      <th></th>\n      <th>track_id</th>\n      <th>artists</th>\n      <th>album_name</th>\n      <th>track_name</th>\n      <th>popularity</th>\n      <th>duration_ms</th>\n      <th>explicit</th>\n      <th>danceability</th>\n      <th>energy</th>\n      <th>key</th>\n      <th>...</th>\n      <th>instrumentalness</th>\n      <th>liveness</th>\n      <th>valence</th>\n      <th>tempo</th>\n      <th>time_signature</th>\n      <th>track_genre</th>\n      <th>y</th>\n      <th>negative</th>\n      <th>neutral</th>\n      <th>positive</th>\n    </tr>\n  </thead>\n  <tbody>\n    <tr>\n      <th>0</th>\n      <td>6D33wCKzWtNEgOovgeVJ7r</td>\n      <td>Jason Mraz</td>\n      <td>Mellow Adult Pop</td>\n      <td>Bella Luna</td>\n      <td>1</td>\n      <td>302346</td>\n      <td>False</td>\n      <td>0.755</td>\n      <td>0.454</td>\n      <td>9</td>\n      <td>...</td>\n      <td>0.000000</td>\n      <td>0.2360</td>\n      <td>0.330</td>\n      <td>120.060</td>\n      <td>4</td>\n      <td>acoustic</td>\n      <td>[0.454, 9.0, 0.757, 0.0, 0.236, 0.33, 120.06]</td>\n      <td>0.056</td>\n      <td>0.592</td>\n      <td>0.353</td>\n    </tr>\n    <tr>\n      <th>1</th>\n      <td>6D33wCKzWtNEgOovgeVJ7r</td>\n      <td>Jason Mraz</td>\n      <td>Mellow Adult Pop</td>\n      <td>Bella Luna</td>\n      <td>1</td>\n      <td>302346</td>\n      <td>False</td>\n      <td>0.755</td>\n      <td>0.454</td>\n      <td>9</td>\n      <td>...</td>\n      <td>0.000000</td>\n      <td>0.2360</td>\n      <td>0.330</td>\n      <td>120.060</td>\n      <td>4</td>\n      <td>rock</td>\n      <td>[0.454, 9.0, 0.757, 0.0, 0.236, 0.33, 120.06]</td>\n      <td>0.056</td>\n      <td>0.592</td>\n      <td>0.353</td>\n    </tr>\n    <tr>\n      <th>2</th>\n      <td>2qESE1ZeWly7I3YjyTXmXh</td>\n      <td>Jason Mraz</td>\n      <td>Perfect Christmas Hits</td>\n      <td>Winter Wonderland</td>\n      <td>0</td>\n      <td>131760</td>\n      <td>False</td>\n      <td>0.620</td>\n      <td>0.309</td>\n      <td>5</td>\n      <td>...</td>\n      <td>0.000000</td>\n      <td>0.1460</td>\n      <td>0.664</td>\n      <td>145.363</td>\n      <td>4</td>\n      <td>acoustic</td>\n      <td>[0.309, 5.0, 0.788, 0.0, 0.146, 0.664, 145.363]</td>\n      <td>0.122</td>\n      <td>0.682</td>\n      <td>0.196</td>\n    </tr>\n    <tr>\n      <th>3</th>\n      <td>2qESE1ZeWly7I3YjyTXmXh</td>\n      <td>Jason Mraz</td>\n      <td>Perfect Christmas Hits</td>\n      <td>Winter Wonderland</td>\n      <td>1</td>\n      <td>131760</td>\n      <td>False</td>\n      <td>0.620</td>\n      <td>0.309</td>\n      <td>5</td>\n      <td>...</td>\n      <td>0.000000</td>\n      <td>0.1460</td>\n      <td>0.664</td>\n      <td>145.363</td>\n      <td>4</td>\n      <td>rock</td>\n      <td>[0.309, 5.0, 0.788, 0.0, 0.146, 0.664, 145.363]</td>\n      <td>0.122</td>\n      <td>0.682</td>\n      <td>0.196</td>\n    </tr>\n    <tr>\n      <th>4</th>\n      <td>1Wb09hTo6O41UzdOq7Pd2i</td>\n      <td>The Bamboos</td>\n      <td>Hard Up (Deluxe Version)</td>\n      <td>Hard Up</td>\n      <td>12</td>\n      <td>255227</td>\n      <td>False</td>\n      <td>0.782</td>\n      <td>0.922</td>\n      <td>11</td>\n      <td>...</td>\n      <td>0.011800</td>\n      <td>0.0728</td>\n      <td>0.761</td>\n      <td>104.015</td>\n      <td>4</td>\n      <td>afrobeat</td>\n      <td>[0.922, 11.0, 0.00655, 0.0118, 0.0728, 0.761, ...</td>\n      <td>0.164</td>\n      <td>0.723</td>\n      <td>0.113</td>\n    </tr>\n    <tr>\n      <th>...</th>\n      <td>...</td>\n      <td>...</td>\n      <td>...</td>\n      <td>...</td>\n      <td>...</td>\n      <td>...</td>\n      <td>...</td>\n      <td>...</td>\n      <td>...</td>\n      <td>...</td>\n      <td>...</td>\n      <td>...</td>\n      <td>...</td>\n      <td>...</td>\n      <td>...</td>\n      <td>...</td>\n      <td>...</td>\n      <td>...</td>\n      <td>...</td>\n      <td>...</td>\n      <td>...</td>\n    </tr>\n    <tr>\n      <th>4546</th>\n      <td>2YEJL2fwTq6RpH5PtdQfge</td>\n      <td>Michael W. Smith</td>\n      <td>Christmas at Home</td>\n      <td>God with God</td>\n      <td>1</td>\n      <td>250859</td>\n      <td>False</td>\n      <td>0.226</td>\n      <td>0.388</td>\n      <td>8</td>\n      <td>...</td>\n      <td>0.000000</td>\n      <td>0.1030</td>\n      <td>0.158</td>\n      <td>114.126</td>\n      <td>4</td>\n      <td>world-music</td>\n      <td>[0.388, 8.0, 0.535, 0.0, 0.103, 0.158, 114.126]</td>\n      <td>0.043</td>\n      <td>0.708</td>\n      <td>0.249</td>\n    </tr>\n    <tr>\n      <th>4547</th>\n      <td>7GwYyLNFyAsSsmt2aa0z6u</td>\n      <td>Michael W. Smith</td>\n      <td>Christmas at Home</td>\n      <td>Freeze The Frame</td>\n      <td>1</td>\n      <td>231873</td>\n      <td>False</td>\n      <td>0.392</td>\n      <td>0.285</td>\n      <td>5</td>\n      <td>...</td>\n      <td>0.000000</td>\n      <td>0.1100</td>\n      <td>0.212</td>\n      <td>70.792</td>\n      <td>4</td>\n      <td>world-music</td>\n      <td>[0.285, 5.0, 0.694, 0.0, 0.11, 0.212, 70.792]</td>\n      <td>0.239</td>\n      <td>0.508</td>\n      <td>0.254</td>\n    </tr>\n    <tr>\n      <th>4548</th>\n      <td>5UjaOsrdoI4shw9gM2eNPC</td>\n      <td>Buena Vista Social Club</td>\n      <td>Buena Vista Social Club</td>\n      <td>El Cuarto de Tula</td>\n      <td>14</td>\n      <td>445426</td>\n      <td>False</td>\n      <td>0.546</td>\n      <td>0.715</td>\n      <td>9</td>\n      <td>...</td>\n      <td>0.000218</td>\n      <td>0.2940</td>\n      <td>0.850</td>\n      <td>104.905</td>\n      <td>4</td>\n      <td>world-music</td>\n      <td>[0.715, 9.0, 0.621, 0.000218, 0.294, 0.85, 104...</td>\n      <td>0.000</td>\n      <td>0.963</td>\n      <td>0.037</td>\n    </tr>\n    <tr>\n      <th>4549</th>\n      <td>11TMcTS3iao1dvMogUSQVk</td>\n      <td>Buena Vista Social Club</td>\n      <td>Buena Vista Social Club</td>\n      <td>De Camino a la Vereda</td>\n      <td>11</td>\n      <td>303973</td>\n      <td>False</td>\n      <td>0.630</td>\n      <td>0.462</td>\n      <td>3</td>\n      <td>...</td>\n      <td>0.000186</td>\n      <td>0.1250</td>\n      <td>0.963</td>\n      <td>84.252</td>\n      <td>4</td>\n      <td>world-music</td>\n      <td>[0.462, 3.0, 0.849, 0.000186, 0.125, 0.963, 84...</td>\n      <td>0.028</td>\n      <td>0.887</td>\n      <td>0.086</td>\n    </tr>\n    <tr>\n      <th>4550</th>\n      <td>11TMcTS3iao1dvMogUSQVk</td>\n      <td>Buena Vista Social Club</td>\n      <td>Buena Vista Social Club</td>\n      <td>De Camino a la Vereda</td>\n      <td>11</td>\n      <td>303973</td>\n      <td>False</td>\n      <td>0.630</td>\n      <td>0.462</td>\n      <td>3</td>\n      <td>...</td>\n      <td>0.000186</td>\n      <td>0.1250</td>\n      <td>0.963</td>\n      <td>84.252</td>\n      <td>4</td>\n      <td>world-music</td>\n      <td>[0.462, 3.0, 0.849, 0.000186, 0.125, 0.963, 84...</td>\n      <td>0.000</td>\n      <td>0.986</td>\n      <td>0.014</td>\n    </tr>\n  </tbody>\n</table>\n<p>4551 rows × 24 columns</p>\n</div>"
     },
     "execution_count": 93,
     "metadata": {},
     "output_type": "execute_result"
    }
   ],
   "source": [
    "dataset = final_dataset_combined_outputs.merge(sentiment_x, on='track_id')\n",
    "dataset"
   ],
   "metadata": {
    "collapsed": false
   }
  },
  {
   "cell_type": "code",
   "execution_count": 94,
   "outputs": [
    {
     "data": {
      "text/plain": "                    track_id  \\\n0     6D33wCKzWtNEgOovgeVJ7r   \n1     6D33wCKzWtNEgOovgeVJ7r   \n2     2qESE1ZeWly7I3YjyTXmXh   \n3     2qESE1ZeWly7I3YjyTXmXh   \n4     1Wb09hTo6O41UzdOq7Pd2i   \n...                      ...   \n4546  2YEJL2fwTq6RpH5PtdQfge   \n4547  7GwYyLNFyAsSsmt2aa0z6u   \n4548  5UjaOsrdoI4shw9gM2eNPC   \n4549  11TMcTS3iao1dvMogUSQVk   \n4550  11TMcTS3iao1dvMogUSQVk   \n\n                                                      y            x_sentiment  \n0         [0.454, 9.0, 0.757, 0.0, 0.236, 0.33, 120.06]  [0.056, 0.592, 0.353]  \n1         [0.454, 9.0, 0.757, 0.0, 0.236, 0.33, 120.06]  [0.056, 0.592, 0.353]  \n2       [0.309, 5.0, 0.788, 0.0, 0.146, 0.664, 145.363]  [0.122, 0.682, 0.196]  \n3       [0.309, 5.0, 0.788, 0.0, 0.146, 0.664, 145.363]  [0.122, 0.682, 0.196]  \n4     [0.922, 11.0, 0.00655, 0.0118, 0.0728, 0.761, ...  [0.164, 0.723, 0.113]  \n...                                                 ...                    ...  \n4546    [0.388, 8.0, 0.535, 0.0, 0.103, 0.158, 114.126]  [0.043, 0.708, 0.249]  \n4547      [0.285, 5.0, 0.694, 0.0, 0.11, 0.212, 70.792]  [0.239, 0.508, 0.254]  \n4548  [0.715, 9.0, 0.621, 0.000218, 0.294, 0.85, 104...    [0.0, 0.963, 0.037]  \n4549  [0.462, 3.0, 0.849, 0.000186, 0.125, 0.963, 84...  [0.028, 0.887, 0.086]  \n4550  [0.462, 3.0, 0.849, 0.000186, 0.125, 0.963, 84...    [0.0, 0.986, 0.014]  \n\n[4551 rows x 3 columns]",
      "text/html": "<div>\n<style scoped>\n    .dataframe tbody tr th:only-of-type {\n        vertical-align: middle;\n    }\n\n    .dataframe tbody tr th {\n        vertical-align: top;\n    }\n\n    .dataframe thead th {\n        text-align: right;\n    }\n</style>\n<table border=\"1\" class=\"dataframe\">\n  <thead>\n    <tr style=\"text-align: right;\">\n      <th></th>\n      <th>track_id</th>\n      <th>y</th>\n      <th>x_sentiment</th>\n    </tr>\n  </thead>\n  <tbody>\n    <tr>\n      <th>0</th>\n      <td>6D33wCKzWtNEgOovgeVJ7r</td>\n      <td>[0.454, 9.0, 0.757, 0.0, 0.236, 0.33, 120.06]</td>\n      <td>[0.056, 0.592, 0.353]</td>\n    </tr>\n    <tr>\n      <th>1</th>\n      <td>6D33wCKzWtNEgOovgeVJ7r</td>\n      <td>[0.454, 9.0, 0.757, 0.0, 0.236, 0.33, 120.06]</td>\n      <td>[0.056, 0.592, 0.353]</td>\n    </tr>\n    <tr>\n      <th>2</th>\n      <td>2qESE1ZeWly7I3YjyTXmXh</td>\n      <td>[0.309, 5.0, 0.788, 0.0, 0.146, 0.664, 145.363]</td>\n      <td>[0.122, 0.682, 0.196]</td>\n    </tr>\n    <tr>\n      <th>3</th>\n      <td>2qESE1ZeWly7I3YjyTXmXh</td>\n      <td>[0.309, 5.0, 0.788, 0.0, 0.146, 0.664, 145.363]</td>\n      <td>[0.122, 0.682, 0.196]</td>\n    </tr>\n    <tr>\n      <th>4</th>\n      <td>1Wb09hTo6O41UzdOq7Pd2i</td>\n      <td>[0.922, 11.0, 0.00655, 0.0118, 0.0728, 0.761, ...</td>\n      <td>[0.164, 0.723, 0.113]</td>\n    </tr>\n    <tr>\n      <th>...</th>\n      <td>...</td>\n      <td>...</td>\n      <td>...</td>\n    </tr>\n    <tr>\n      <th>4546</th>\n      <td>2YEJL2fwTq6RpH5PtdQfge</td>\n      <td>[0.388, 8.0, 0.535, 0.0, 0.103, 0.158, 114.126]</td>\n      <td>[0.043, 0.708, 0.249]</td>\n    </tr>\n    <tr>\n      <th>4547</th>\n      <td>7GwYyLNFyAsSsmt2aa0z6u</td>\n      <td>[0.285, 5.0, 0.694, 0.0, 0.11, 0.212, 70.792]</td>\n      <td>[0.239, 0.508, 0.254]</td>\n    </tr>\n    <tr>\n      <th>4548</th>\n      <td>5UjaOsrdoI4shw9gM2eNPC</td>\n      <td>[0.715, 9.0, 0.621, 0.000218, 0.294, 0.85, 104...</td>\n      <td>[0.0, 0.963, 0.037]</td>\n    </tr>\n    <tr>\n      <th>4549</th>\n      <td>11TMcTS3iao1dvMogUSQVk</td>\n      <td>[0.462, 3.0, 0.849, 0.000186, 0.125, 0.963, 84...</td>\n      <td>[0.028, 0.887, 0.086]</td>\n    </tr>\n    <tr>\n      <th>4550</th>\n      <td>11TMcTS3iao1dvMogUSQVk</td>\n      <td>[0.462, 3.0, 0.849, 0.000186, 0.125, 0.963, 84...</td>\n      <td>[0.0, 0.986, 0.014]</td>\n    </tr>\n  </tbody>\n</table>\n<p>4551 rows × 3 columns</p>\n</div>"
     },
     "execution_count": 94,
     "metadata": {},
     "output_type": "execute_result"
    }
   ],
   "source": [
    "final_dataset = dataset[['track_id', 'y', 'negative', 'neutral', 'positive']].copy()\n",
    "final_dataset['x_sentiment'] = final_dataset.apply(lambda x: np.array([x[2], x[3], x[4]]), axis=1)\n",
    "final_dataset.drop(columns=['negative', 'neutral', 'positive'], inplace=True)\n",
    "final_dataset"
   ],
   "metadata": {
    "collapsed": false
   }
  },
  {
   "cell_type": "code",
   "execution_count": 95,
   "outputs": [],
   "source": [
    "import pickle\n",
    "\n",
    "with open(\"final_dataset.pickle\", \"wb\") as f:\n",
    "    pickle.dump(final_dataset, f)"
   ],
   "metadata": {
    "collapsed": false
   }
  },
  {
   "cell_type": "code",
   "execution_count": 96,
   "outputs": [
    {
     "data": {
      "text/plain": "array([[4.54000e-01, 9.00000e+00, 7.57000e-01, ..., 2.36000e-01,\n        3.30000e-01, 1.20060e+02],\n       [4.54000e-01, 9.00000e+00, 7.57000e-01, ..., 2.36000e-01,\n        3.30000e-01, 1.20060e+02],\n       [3.09000e-01, 5.00000e+00, 7.88000e-01, ..., 1.46000e-01,\n        6.64000e-01, 1.45363e+02],\n       ...,\n       [7.15000e-01, 9.00000e+00, 6.21000e-01, ..., 2.94000e-01,\n        8.50000e-01, 1.04905e+02],\n       [4.62000e-01, 3.00000e+00, 8.49000e-01, ..., 1.25000e-01,\n        9.63000e-01, 8.42520e+01],\n       [4.62000e-01, 3.00000e+00, 8.49000e-01, ..., 1.25000e-01,\n        9.63000e-01, 8.42520e+01]], dtype=float32)"
     },
     "execution_count": 96,
     "metadata": {},
     "output_type": "execute_result"
    }
   ],
   "source": [
    "with open(\"final_dataset.pickle\", \"rb\") as f:\n",
    "    dataset = pickle.load(f)\n",
    "\n",
    "track_ids = list(dataset['track_id'])\n",
    "y = dataset['y'].to_numpy()\n",
    "y = np.array([x for x in y])\n",
    "y"
   ],
   "metadata": {
    "collapsed": false
   }
  },
  {
   "cell_type": "code",
   "execution_count": 97,
   "outputs": [],
   "source": [
    "from PIL import Image\n",
    "\n",
    "x_img = np.empty((y.shape[0], 23, 31, 3), dtype=np.uint8)\n",
    "\n",
    "for i, track_id in enumerate(track_ids):\n",
    "    img = Image.open(os.path.join('spectrograms', track_id + '.png'))\n",
    "    im = np.array(img)\n",
    "\n",
    "    rgb_im = im[:,:,:3]\n",
    "\n",
    "    x_img[i] = rgb_im\n"
   ],
   "metadata": {
    "collapsed": false
   }
  },
  {
   "cell_type": "code",
   "execution_count": 98,
   "outputs": [
    {
     "name": "stdout",
     "output_type": "stream",
     "text": [
      "[[0.056 0.592 0.353]\n",
      " [0.056 0.592 0.353]\n",
      " [0.122 0.682 0.196]\n",
      " ...\n",
      " [0.    0.963 0.037]\n",
      " [0.028 0.887 0.086]\n",
      " [0.    0.986 0.014]]\n"
     ]
    }
   ],
   "source": [
    "x_sentiment = dataset['x_sentiment'].to_numpy()\n",
    "x_sentiment = np.array([x for x in x_sentiment])\n",
    "print(x_sentiment)"
   ],
   "metadata": {
    "collapsed": false
   }
  },
  {
   "cell_type": "code",
   "execution_count": 100,
   "outputs": [
    {
     "name": "stdout",
     "output_type": "stream",
     "text": [
      "(4551, 3) (4551, 23, 31, 3) (4551, 7)\n"
     ]
    }
   ],
   "source": [
    "print(x_sentiment.shape, x_img.shape, y.shape)"
   ],
   "metadata": {
    "collapsed": false
   }
  },
  {
   "cell_type": "code",
   "execution_count": 101,
   "outputs": [],
   "source": [
    "np.savez(\"dataset.npz\", x_sent=x_sentiment, x_img=x_img, y=y)"
   ],
   "metadata": {
    "collapsed": false
   }
  },
  {
   "cell_type": "code",
   "execution_count": null,
   "outputs": [],
   "source": [],
   "metadata": {
    "collapsed": false
   }
  }
 ],
 "metadata": {
  "kernelspec": {
   "display_name": "Python 3",
   "language": "python",
   "name": "python3"
  },
  "language_info": {
   "codemirror_mode": {
    "name": "ipython",
    "version": 2
   },
   "file_extension": ".py",
   "mimetype": "text/x-python",
   "name": "python",
   "nbconvert_exporter": "python",
   "pygments_lexer": "ipython2",
   "version": "2.7.6"
  }
 },
 "nbformat": 4,
 "nbformat_minor": 0
}
